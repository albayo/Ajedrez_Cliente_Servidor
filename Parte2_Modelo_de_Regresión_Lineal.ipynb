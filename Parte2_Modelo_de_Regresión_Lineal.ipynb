{
  "cells": [
    {
      "cell_type": "markdown",
      "metadata": {
        "id": "view-in-github",
        "colab_type": "text"
      },
      "source": [
        "<a href=\"https://colab.research.google.com/github/albayo/Ajedrez/blob/main/Parte2_Modelo_de_Regresi%C3%B3n_Lineal.ipynb\" target=\"_parent\"><img src=\"https://colab.research.google.com/assets/colab-badge.svg\" alt=\"Open In Colab\"/></a>"
      ]
    },
    {
      "cell_type": "markdown",
      "metadata": {
        "id": "GLlFd2Llrppd"
      },
      "source": [
        "- *Alumno*: \n",
        "- *Asignatura*: Ingeniería del Conocimiento\n",
        "- *Curso*: 2021/2022\n",
        "- *Profesor*: Fco. Javier Martínez de Pisón\n",
        "- Universidad de La Rioja"
      ]
    },
    {
      "cell_type": "markdown",
      "metadata": {
        "id": "b9BqZNYCrppi"
      },
      "source": [
        "# Modelo de Regresión Lineal de 'Pollution'"
      ]
    },
    {
      "cell_type": "markdown",
      "metadata": {
        "id": "UE8uEFPQrppj"
      },
      "source": [
        "Ahora vamos a realizar un modelo de regresión lineal y vamos a aprender a ajustar e interpretar correctamente un modelo."
      ]
    },
    {
      "cell_type": "markdown",
      "metadata": {
        "id": "RxPLhewQrppj"
      },
      "source": [
        "La base de datos tiene las siguientes características:\n",
        "\n",
        "-\tPREC: Precipitación media anual en pulgadas.\n",
        "-\tJANT: Temperatura media de enero en grados Fahrenheit (F). \n",
        "-\tJULT: Igual que en julio.\n",
        "-\tOVR65: % de la población del SMSA de 1960 de 65 años o más.\n",
        "-\tPOPN: Tamaño medio de los hogares.\n",
        "-\tEDUC: Promedio de años de estudio completados por los mayores de 22 años.\n",
        "-\tHOUS: % de unidades de vivienda que son sólidas y con todas las instalaciones.\n",
        "-\tDENS: Población por milla cuadrada en áreas urbanizadas, 1960.\n",
        "-\tNONW: % de población no blanca en áreas urbanizadas, 1960.\n",
        "-\tWWDRK: % de empleados en profesiones de cuello blanco.\n",
        "-\tPOOR: % de familias con ingresos inferiores a 3.000 dólares\n",
        "-\tHC: Potencial relativo de contaminación por hidrocarburos.\n",
        "-\tNOX: Igual que los óxidos nítricos.\n",
        "-\tSO@: Igual que el dióxido de azufre.\n",
        "-\tHUMID: Promedio anual de humedad relativa a las 13:00 horas.\n",
        "-\tMORT: Tasa de mortalidad total ajustada por edad por cada 100.000.\n",
        "\n",
        "Data from StatLib (ftp stat.cmu.edu/datasets)\n",
        "\n",
        "Source: McDonald, G.C. and Schwing, R.C. (1973) 'Instabilities of regression estimates relating air pollution to mortality', Technometrics, vol.15, 463-482.\n"
      ]
    },
    {
      "cell_type": "markdown",
      "metadata": {
        "id": "WTyT9IX1rppk"
      },
      "source": [
        "## Cargar la Base de Datos"
      ]
    },
    {
      "cell_type": "markdown",
      "metadata": {
        "id": "UzWEnJQjrppk"
      },
      "source": [
        "En local, si no se dispone en windows del comando 'wget', el archivo se puede descargar directamente del enlace con el navegador: https://github.com/IC1920/Datasets/raw/master/pollution_sin_comentarios.arff. Incluir el mismo en el directorio donde está almacenado el notebook."
      ]
    },
    {
      "cell_type": "code",
      "execution_count": 119,
      "metadata": {
        "ExecuteTime": {
          "end_time": "2022-02-23T16:52:40.426985Z",
          "start_time": "2022-02-23T16:52:40.367584Z"
        },
        "id": "7vzMD47crppl",
        "outputId": "b7f0e37f-546f-4f7b-9df5-8d02382025da",
        "colab": {
          "base_uri": "https://localhost:8080/"
        }
      },
      "outputs": [
        {
          "output_type": "stream",
          "name": "stdout",
          "text": [
            "--2022-03-29 16:07:08--  https://github.com/IC1920/Datasets/raw/master/pollution_sin_comentarios.arff\n",
            "Resolving github.com (github.com)... 140.82.114.4\n",
            "Connecting to github.com (github.com)|140.82.114.4|:443... connected.\n",
            "HTTP request sent, awaiting response... 302 Found\n",
            "Location: https://raw.githubusercontent.com/IC1920/Datasets/master/pollution_sin_comentarios.arff [following]\n",
            "--2022-03-29 16:07:08--  https://raw.githubusercontent.com/IC1920/Datasets/master/pollution_sin_comentarios.arff\n",
            "Resolving raw.githubusercontent.com (raw.githubusercontent.com)... 185.199.111.133, 185.199.109.133, 185.199.110.133, ...\n",
            "Connecting to raw.githubusercontent.com (raw.githubusercontent.com)|185.199.111.133|:443... connected.\n",
            "HTTP request sent, awaiting response... 200 OK\n",
            "Length: 5340 (5.2K) [text/plain]\n",
            "Saving to: ‘pollution_sin_comentarios.arff’\n",
            "\n",
            "\r          pollution   0%[                    ]       0  --.-KB/s               \rpollution_sin_comen 100%[===================>]   5.21K  --.-KB/s    in 0s      \n",
            "\n",
            "2022-03-29 16:07:08 (50.7 MB/s) - ‘pollution_sin_comentarios.arff’ saved [5340/5340]\n",
            "\n"
          ]
        }
      ],
      "source": [
        "# Funciona en linux y colab\n",
        "!wget https://github.com/IC1920/Datasets/raw/master/pollution_sin_comentarios.arff -O pollution_sin_comentarios.arff #Funciona en linux"
      ]
    },
    {
      "cell_type": "code",
      "execution_count": 120,
      "metadata": {
        "ExecuteTime": {
          "end_time": "2022-02-23T16:52:43.471810Z",
          "start_time": "2022-02-23T16:52:40.429984Z"
        },
        "id": "wFomZCyTrppn"
      },
      "outputs": [],
      "source": [
        "# Tratamiento de datos\n",
        "# ==============================================================================\n",
        "import pandas as pd\n",
        "import numpy as np\n",
        "\n",
        "# Gráficos\n",
        "# ==============================================================================\n",
        "import matplotlib.pyplot as plt\n",
        "from matplotlib import style\n",
        "import seaborn as sns\n",
        "\n",
        "# Preprocesado y modelado\n",
        "# ==============================================================================\n",
        "from scipy.stats import pearsonr\n",
        "from sklearn.linear_model import LinearRegression\n",
        "from sklearn.model_selection import train_test_split\n",
        "from sklearn.metrics import r2_score\n",
        "from sklearn.metrics import mean_squared_error\n",
        "import statsmodels.api as sm\n",
        "import statsmodels.formula.api as smf\n",
        "\n",
        "# Configuración matplotlib\n",
        "# ==============================================================================\n",
        "plt.rcParams['image.cmap'] = \"bwr\"\n",
        "#plt.rcParams['figure.dpi'] = \"100\"\n",
        "plt.rcParams['savefig.bbox'] = \"tight\"\n",
        "style.use('ggplot') or plt.style.use('ggplot')\n",
        "\n",
        "# Configuración warnings\n",
        "# ==============================================================================\n",
        "import warnings\n",
        "warnings.filterwarnings('ignore')\n",
        "from scipy.io import arff"
      ]
    },
    {
      "cell_type": "code",
      "source": [
        "df_pollution = pd.DataFrame(arff.loadarff(\"pollution_sin_comentarios.arff\")[0])\n",
        "print(df_pollution.shape)\n",
        "df_pollution.head()"
      ],
      "metadata": {
        "id": "QZ7139XDxXzC",
        "outputId": "11444692-dec4-47a1-8a2b-073977a082bc",
        "colab": {
          "base_uri": "https://localhost:8080/",
          "height": 268
        }
      },
      "execution_count": 121,
      "outputs": [
        {
          "output_type": "stream",
          "name": "stdout",
          "text": [
            "(60, 16)\n"
          ]
        },
        {
          "output_type": "execute_result",
          "data": {
            "text/plain": [
              "   PREC  JANT  JULT  OVR65  POPN  EDUC  HOUS    DENS  NONW  WWDRK  POOR    HC  \\\n",
              "0  36.0  27.0  71.0    8.1  3.34  11.4  81.5  3243.0   8.8   42.6  11.7  21.0   \n",
              "1  35.0  23.0  72.0   11.1  3.14  11.0  78.8  4281.0   3.5   50.7  14.4   8.0   \n",
              "2  44.0  29.0  74.0   10.4  3.21   9.8  81.6  4260.0   0.8   39.4  12.4   6.0   \n",
              "3  47.0  45.0  79.0    6.5  3.41  11.1  77.5  3125.0  27.1   50.2  20.6  18.0   \n",
              "4  43.0  35.0  77.0    7.6  3.44   9.6  84.6  6441.0  24.4   43.7  14.3  43.0   \n",
              "\n",
              "    NOX    SO@  HUMID      MORT  \n",
              "0  15.0   59.0   59.0   921.870  \n",
              "1  10.0   39.0   57.0   997.875  \n",
              "2   6.0   33.0   54.0   962.354  \n",
              "3   8.0   24.0   56.0   982.291  \n",
              "4  38.0  206.0   55.0  1071.289  "
            ],
            "text/html": [
              "\n",
              "  <div id=\"df-832ed289-cfbe-4a6b-b6d5-cd5d904ab46e\">\n",
              "    <div class=\"colab-df-container\">\n",
              "      <div>\n",
              "<style scoped>\n",
              "    .dataframe tbody tr th:only-of-type {\n",
              "        vertical-align: middle;\n",
              "    }\n",
              "\n",
              "    .dataframe tbody tr th {\n",
              "        vertical-align: top;\n",
              "    }\n",
              "\n",
              "    .dataframe thead th {\n",
              "        text-align: right;\n",
              "    }\n",
              "</style>\n",
              "<table border=\"1\" class=\"dataframe\">\n",
              "  <thead>\n",
              "    <tr style=\"text-align: right;\">\n",
              "      <th></th>\n",
              "      <th>PREC</th>\n",
              "      <th>JANT</th>\n",
              "      <th>JULT</th>\n",
              "      <th>OVR65</th>\n",
              "      <th>POPN</th>\n",
              "      <th>EDUC</th>\n",
              "      <th>HOUS</th>\n",
              "      <th>DENS</th>\n",
              "      <th>NONW</th>\n",
              "      <th>WWDRK</th>\n",
              "      <th>POOR</th>\n",
              "      <th>HC</th>\n",
              "      <th>NOX</th>\n",
              "      <th>SO@</th>\n",
              "      <th>HUMID</th>\n",
              "      <th>MORT</th>\n",
              "    </tr>\n",
              "  </thead>\n",
              "  <tbody>\n",
              "    <tr>\n",
              "      <th>0</th>\n",
              "      <td>36.0</td>\n",
              "      <td>27.0</td>\n",
              "      <td>71.0</td>\n",
              "      <td>8.1</td>\n",
              "      <td>3.34</td>\n",
              "      <td>11.4</td>\n",
              "      <td>81.5</td>\n",
              "      <td>3243.0</td>\n",
              "      <td>8.8</td>\n",
              "      <td>42.6</td>\n",
              "      <td>11.7</td>\n",
              "      <td>21.0</td>\n",
              "      <td>15.0</td>\n",
              "      <td>59.0</td>\n",
              "      <td>59.0</td>\n",
              "      <td>921.870</td>\n",
              "    </tr>\n",
              "    <tr>\n",
              "      <th>1</th>\n",
              "      <td>35.0</td>\n",
              "      <td>23.0</td>\n",
              "      <td>72.0</td>\n",
              "      <td>11.1</td>\n",
              "      <td>3.14</td>\n",
              "      <td>11.0</td>\n",
              "      <td>78.8</td>\n",
              "      <td>4281.0</td>\n",
              "      <td>3.5</td>\n",
              "      <td>50.7</td>\n",
              "      <td>14.4</td>\n",
              "      <td>8.0</td>\n",
              "      <td>10.0</td>\n",
              "      <td>39.0</td>\n",
              "      <td>57.0</td>\n",
              "      <td>997.875</td>\n",
              "    </tr>\n",
              "    <tr>\n",
              "      <th>2</th>\n",
              "      <td>44.0</td>\n",
              "      <td>29.0</td>\n",
              "      <td>74.0</td>\n",
              "      <td>10.4</td>\n",
              "      <td>3.21</td>\n",
              "      <td>9.8</td>\n",
              "      <td>81.6</td>\n",
              "      <td>4260.0</td>\n",
              "      <td>0.8</td>\n",
              "      <td>39.4</td>\n",
              "      <td>12.4</td>\n",
              "      <td>6.0</td>\n",
              "      <td>6.0</td>\n",
              "      <td>33.0</td>\n",
              "      <td>54.0</td>\n",
              "      <td>962.354</td>\n",
              "    </tr>\n",
              "    <tr>\n",
              "      <th>3</th>\n",
              "      <td>47.0</td>\n",
              "      <td>45.0</td>\n",
              "      <td>79.0</td>\n",
              "      <td>6.5</td>\n",
              "      <td>3.41</td>\n",
              "      <td>11.1</td>\n",
              "      <td>77.5</td>\n",
              "      <td>3125.0</td>\n",
              "      <td>27.1</td>\n",
              "      <td>50.2</td>\n",
              "      <td>20.6</td>\n",
              "      <td>18.0</td>\n",
              "      <td>8.0</td>\n",
              "      <td>24.0</td>\n",
              "      <td>56.0</td>\n",
              "      <td>982.291</td>\n",
              "    </tr>\n",
              "    <tr>\n",
              "      <th>4</th>\n",
              "      <td>43.0</td>\n",
              "      <td>35.0</td>\n",
              "      <td>77.0</td>\n",
              "      <td>7.6</td>\n",
              "      <td>3.44</td>\n",
              "      <td>9.6</td>\n",
              "      <td>84.6</td>\n",
              "      <td>6441.0</td>\n",
              "      <td>24.4</td>\n",
              "      <td>43.7</td>\n",
              "      <td>14.3</td>\n",
              "      <td>43.0</td>\n",
              "      <td>38.0</td>\n",
              "      <td>206.0</td>\n",
              "      <td>55.0</td>\n",
              "      <td>1071.289</td>\n",
              "    </tr>\n",
              "  </tbody>\n",
              "</table>\n",
              "</div>\n",
              "      <button class=\"colab-df-convert\" onclick=\"convertToInteractive('df-832ed289-cfbe-4a6b-b6d5-cd5d904ab46e')\"\n",
              "              title=\"Convert this dataframe to an interactive table.\"\n",
              "              style=\"display:none;\">\n",
              "        \n",
              "  <svg xmlns=\"http://www.w3.org/2000/svg\" height=\"24px\"viewBox=\"0 0 24 24\"\n",
              "       width=\"24px\">\n",
              "    <path d=\"M0 0h24v24H0V0z\" fill=\"none\"/>\n",
              "    <path d=\"M18.56 5.44l.94 2.06.94-2.06 2.06-.94-2.06-.94-.94-2.06-.94 2.06-2.06.94zm-11 1L8.5 8.5l.94-2.06 2.06-.94-2.06-.94L8.5 2.5l-.94 2.06-2.06.94zm10 10l.94 2.06.94-2.06 2.06-.94-2.06-.94-.94-2.06-.94 2.06-2.06.94z\"/><path d=\"M17.41 7.96l-1.37-1.37c-.4-.4-.92-.59-1.43-.59-.52 0-1.04.2-1.43.59L10.3 9.45l-7.72 7.72c-.78.78-.78 2.05 0 2.83L4 21.41c.39.39.9.59 1.41.59.51 0 1.02-.2 1.41-.59l7.78-7.78 2.81-2.81c.8-.78.8-2.07 0-2.86zM5.41 20L4 18.59l7.72-7.72 1.47 1.35L5.41 20z\"/>\n",
              "  </svg>\n",
              "      </button>\n",
              "      \n",
              "  <style>\n",
              "    .colab-df-container {\n",
              "      display:flex;\n",
              "      flex-wrap:wrap;\n",
              "      gap: 12px;\n",
              "    }\n",
              "\n",
              "    .colab-df-convert {\n",
              "      background-color: #E8F0FE;\n",
              "      border: none;\n",
              "      border-radius: 50%;\n",
              "      cursor: pointer;\n",
              "      display: none;\n",
              "      fill: #1967D2;\n",
              "      height: 32px;\n",
              "      padding: 0 0 0 0;\n",
              "      width: 32px;\n",
              "    }\n",
              "\n",
              "    .colab-df-convert:hover {\n",
              "      background-color: #E2EBFA;\n",
              "      box-shadow: 0px 1px 2px rgba(60, 64, 67, 0.3), 0px 1px 3px 1px rgba(60, 64, 67, 0.15);\n",
              "      fill: #174EA6;\n",
              "    }\n",
              "\n",
              "    [theme=dark] .colab-df-convert {\n",
              "      background-color: #3B4455;\n",
              "      fill: #D2E3FC;\n",
              "    }\n",
              "\n",
              "    [theme=dark] .colab-df-convert:hover {\n",
              "      background-color: #434B5C;\n",
              "      box-shadow: 0px 1px 3px 1px rgba(0, 0, 0, 0.15);\n",
              "      filter: drop-shadow(0px 1px 2px rgba(0, 0, 0, 0.3));\n",
              "      fill: #FFFFFF;\n",
              "    }\n",
              "  </style>\n",
              "\n",
              "      <script>\n",
              "        const buttonEl =\n",
              "          document.querySelector('#df-832ed289-cfbe-4a6b-b6d5-cd5d904ab46e button.colab-df-convert');\n",
              "        buttonEl.style.display =\n",
              "          google.colab.kernel.accessAllowed ? 'block' : 'none';\n",
              "\n",
              "        async function convertToInteractive(key) {\n",
              "          const element = document.querySelector('#df-832ed289-cfbe-4a6b-b6d5-cd5d904ab46e');\n",
              "          const dataTable =\n",
              "            await google.colab.kernel.invokeFunction('convertToInteractive',\n",
              "                                                     [key], {});\n",
              "          if (!dataTable) return;\n",
              "\n",
              "          const docLinkHtml = 'Like what you see? Visit the ' +\n",
              "            '<a target=\"_blank\" href=https://colab.research.google.com/notebooks/data_table.ipynb>data table notebook</a>'\n",
              "            + ' to learn more about interactive tables.';\n",
              "          element.innerHTML = '';\n",
              "          dataTable['output_type'] = 'display_data';\n",
              "          await google.colab.output.renderOutput(dataTable, element);\n",
              "          const docLink = document.createElement('div');\n",
              "          docLink.innerHTML = docLinkHtml;\n",
              "          element.appendChild(docLink);\n",
              "        }\n",
              "      </script>\n",
              "    </div>\n",
              "  </div>\n",
              "  "
            ]
          },
          "metadata": {},
          "execution_count": 121
        }
      ]
    },
    {
      "cell_type": "markdown",
      "source": [
        "Eliminar los espurios, primero detectamos:\n",
        "Falta NOX"
      ],
      "metadata": {
        "id": "bzjhRcQTvMxI"
      }
    },
    {
      "cell_type": "code",
      "source": [
        "#df_pollution['HC'].sort_values(ascending=False)"
      ],
      "metadata": {
        "id": "Dq3SoZ_LzRKM"
      },
      "execution_count": 122,
      "outputs": []
    },
    {
      "cell_type": "code",
      "source": [
        "df_pollution['HC'].sort_values(ascending=False)\n",
        "\n",
        "df_pollution.loc[df_pollution['HC']>300,'HC']=np.nan\n"
      ],
      "metadata": {
        "id": "ETiEtFXKuylQ"
      },
      "execution_count": 123,
      "outputs": []
    },
    {
      "cell_type": "code",
      "source": [
        "df_pollution.loc[df_pollution['HC'].isna(),'HC']=df_pollution['HC'].mean()\n",
        "df_pollution.describe()"
      ],
      "metadata": {
        "id": "IK3mz19BwFIQ",
        "outputId": "d377e1be-5cc7-4634-a2aa-c3505e3cfd22",
        "colab": {
          "base_uri": "https://localhost:8080/",
          "height": 364
        }
      },
      "execution_count": 124,
      "outputs": [
        {
          "output_type": "execute_result",
          "data": {
            "text/plain": [
              "            PREC       JANT       JULT      OVR65       POPN       EDUC  \\\n",
              "count  60.000000  60.000000  60.000000  60.000000  60.000000  60.000000   \n",
              "mean   37.366667  33.983333  74.583333   8.798333   3.263167  10.973333   \n",
              "std     9.984678  10.168899   4.763177   1.464552   0.135252   0.845299   \n",
              "min    10.000000  12.000000  63.000000   5.600000   2.920000   9.000000   \n",
              "25%    32.750000  27.000000  72.000000   7.675000   3.210000  10.400000   \n",
              "50%    38.000000  31.500000  74.000000   9.000000   3.265000  11.050000   \n",
              "75%    43.250000  40.000000  77.250000   9.700000   3.360000  11.500000   \n",
              "max    60.000000  67.000000  85.000000  11.800000   3.530000  12.300000   \n",
              "\n",
              "            HOUS         DENS       NONW      WWDRK       POOR          HC  \\\n",
              "count  60.000000    60.000000  60.000000  60.000000  60.000000   60.000000   \n",
              "mean   80.913333  3876.050000  11.870000  46.081667  14.373333   22.620690   \n",
              "std     5.141373  1454.102361   8.921148   4.613043   4.160096   25.640162   \n",
              "min    66.800000  1441.000000   0.800000  33.800000   9.400000    1.000000   \n",
              "25%    78.375000  3104.250000   4.950000  43.250000  12.000000    7.000000   \n",
              "50%    81.150000  3567.000000  10.400000  45.500000  13.200000   14.500000   \n",
              "75%    83.600000  4519.750000  15.650000  49.525000  15.150000   26.750000   \n",
              "max    90.700000  9699.000000  38.500000  59.700000  26.400000  144.000000   \n",
              "\n",
              "             NOX         SO@      HUMID         MORT  \n",
              "count   60.00000   60.000000  60.000000    60.000000  \n",
              "mean    22.65000   53.766667  57.666667   940.358433  \n",
              "std     46.33329   63.390468   5.369931    62.206278  \n",
              "min      1.00000    1.000000  38.000000   790.733000  \n",
              "25%      4.00000   11.000000  55.000000   898.372000  \n",
              "50%      9.00000   30.000000  57.000000   943.683000  \n",
              "75%     23.75000   69.000000  60.000000   983.205750  \n",
              "max    319.00000  278.000000  73.000000  1113.156000  "
            ],
            "text/html": [
              "\n",
              "  <div id=\"df-a7309f59-5fbd-40e5-8290-5f7ca0c68369\">\n",
              "    <div class=\"colab-df-container\">\n",
              "      <div>\n",
              "<style scoped>\n",
              "    .dataframe tbody tr th:only-of-type {\n",
              "        vertical-align: middle;\n",
              "    }\n",
              "\n",
              "    .dataframe tbody tr th {\n",
              "        vertical-align: top;\n",
              "    }\n",
              "\n",
              "    .dataframe thead th {\n",
              "        text-align: right;\n",
              "    }\n",
              "</style>\n",
              "<table border=\"1\" class=\"dataframe\">\n",
              "  <thead>\n",
              "    <tr style=\"text-align: right;\">\n",
              "      <th></th>\n",
              "      <th>PREC</th>\n",
              "      <th>JANT</th>\n",
              "      <th>JULT</th>\n",
              "      <th>OVR65</th>\n",
              "      <th>POPN</th>\n",
              "      <th>EDUC</th>\n",
              "      <th>HOUS</th>\n",
              "      <th>DENS</th>\n",
              "      <th>NONW</th>\n",
              "      <th>WWDRK</th>\n",
              "      <th>POOR</th>\n",
              "      <th>HC</th>\n",
              "      <th>NOX</th>\n",
              "      <th>SO@</th>\n",
              "      <th>HUMID</th>\n",
              "      <th>MORT</th>\n",
              "    </tr>\n",
              "  </thead>\n",
              "  <tbody>\n",
              "    <tr>\n",
              "      <th>count</th>\n",
              "      <td>60.000000</td>\n",
              "      <td>60.000000</td>\n",
              "      <td>60.000000</td>\n",
              "      <td>60.000000</td>\n",
              "      <td>60.000000</td>\n",
              "      <td>60.000000</td>\n",
              "      <td>60.000000</td>\n",
              "      <td>60.000000</td>\n",
              "      <td>60.000000</td>\n",
              "      <td>60.000000</td>\n",
              "      <td>60.000000</td>\n",
              "      <td>60.000000</td>\n",
              "      <td>60.00000</td>\n",
              "      <td>60.000000</td>\n",
              "      <td>60.000000</td>\n",
              "      <td>60.000000</td>\n",
              "    </tr>\n",
              "    <tr>\n",
              "      <th>mean</th>\n",
              "      <td>37.366667</td>\n",
              "      <td>33.983333</td>\n",
              "      <td>74.583333</td>\n",
              "      <td>8.798333</td>\n",
              "      <td>3.263167</td>\n",
              "      <td>10.973333</td>\n",
              "      <td>80.913333</td>\n",
              "      <td>3876.050000</td>\n",
              "      <td>11.870000</td>\n",
              "      <td>46.081667</td>\n",
              "      <td>14.373333</td>\n",
              "      <td>22.620690</td>\n",
              "      <td>22.65000</td>\n",
              "      <td>53.766667</td>\n",
              "      <td>57.666667</td>\n",
              "      <td>940.358433</td>\n",
              "    </tr>\n",
              "    <tr>\n",
              "      <th>std</th>\n",
              "      <td>9.984678</td>\n",
              "      <td>10.168899</td>\n",
              "      <td>4.763177</td>\n",
              "      <td>1.464552</td>\n",
              "      <td>0.135252</td>\n",
              "      <td>0.845299</td>\n",
              "      <td>5.141373</td>\n",
              "      <td>1454.102361</td>\n",
              "      <td>8.921148</td>\n",
              "      <td>4.613043</td>\n",
              "      <td>4.160096</td>\n",
              "      <td>25.640162</td>\n",
              "      <td>46.33329</td>\n",
              "      <td>63.390468</td>\n",
              "      <td>5.369931</td>\n",
              "      <td>62.206278</td>\n",
              "    </tr>\n",
              "    <tr>\n",
              "      <th>min</th>\n",
              "      <td>10.000000</td>\n",
              "      <td>12.000000</td>\n",
              "      <td>63.000000</td>\n",
              "      <td>5.600000</td>\n",
              "      <td>2.920000</td>\n",
              "      <td>9.000000</td>\n",
              "      <td>66.800000</td>\n",
              "      <td>1441.000000</td>\n",
              "      <td>0.800000</td>\n",
              "      <td>33.800000</td>\n",
              "      <td>9.400000</td>\n",
              "      <td>1.000000</td>\n",
              "      <td>1.00000</td>\n",
              "      <td>1.000000</td>\n",
              "      <td>38.000000</td>\n",
              "      <td>790.733000</td>\n",
              "    </tr>\n",
              "    <tr>\n",
              "      <th>25%</th>\n",
              "      <td>32.750000</td>\n",
              "      <td>27.000000</td>\n",
              "      <td>72.000000</td>\n",
              "      <td>7.675000</td>\n",
              "      <td>3.210000</td>\n",
              "      <td>10.400000</td>\n",
              "      <td>78.375000</td>\n",
              "      <td>3104.250000</td>\n",
              "      <td>4.950000</td>\n",
              "      <td>43.250000</td>\n",
              "      <td>12.000000</td>\n",
              "      <td>7.000000</td>\n",
              "      <td>4.00000</td>\n",
              "      <td>11.000000</td>\n",
              "      <td>55.000000</td>\n",
              "      <td>898.372000</td>\n",
              "    </tr>\n",
              "    <tr>\n",
              "      <th>50%</th>\n",
              "      <td>38.000000</td>\n",
              "      <td>31.500000</td>\n",
              "      <td>74.000000</td>\n",
              "      <td>9.000000</td>\n",
              "      <td>3.265000</td>\n",
              "      <td>11.050000</td>\n",
              "      <td>81.150000</td>\n",
              "      <td>3567.000000</td>\n",
              "      <td>10.400000</td>\n",
              "      <td>45.500000</td>\n",
              "      <td>13.200000</td>\n",
              "      <td>14.500000</td>\n",
              "      <td>9.00000</td>\n",
              "      <td>30.000000</td>\n",
              "      <td>57.000000</td>\n",
              "      <td>943.683000</td>\n",
              "    </tr>\n",
              "    <tr>\n",
              "      <th>75%</th>\n",
              "      <td>43.250000</td>\n",
              "      <td>40.000000</td>\n",
              "      <td>77.250000</td>\n",
              "      <td>9.700000</td>\n",
              "      <td>3.360000</td>\n",
              "      <td>11.500000</td>\n",
              "      <td>83.600000</td>\n",
              "      <td>4519.750000</td>\n",
              "      <td>15.650000</td>\n",
              "      <td>49.525000</td>\n",
              "      <td>15.150000</td>\n",
              "      <td>26.750000</td>\n",
              "      <td>23.75000</td>\n",
              "      <td>69.000000</td>\n",
              "      <td>60.000000</td>\n",
              "      <td>983.205750</td>\n",
              "    </tr>\n",
              "    <tr>\n",
              "      <th>max</th>\n",
              "      <td>60.000000</td>\n",
              "      <td>67.000000</td>\n",
              "      <td>85.000000</td>\n",
              "      <td>11.800000</td>\n",
              "      <td>3.530000</td>\n",
              "      <td>12.300000</td>\n",
              "      <td>90.700000</td>\n",
              "      <td>9699.000000</td>\n",
              "      <td>38.500000</td>\n",
              "      <td>59.700000</td>\n",
              "      <td>26.400000</td>\n",
              "      <td>144.000000</td>\n",
              "      <td>319.00000</td>\n",
              "      <td>278.000000</td>\n",
              "      <td>73.000000</td>\n",
              "      <td>1113.156000</td>\n",
              "    </tr>\n",
              "  </tbody>\n",
              "</table>\n",
              "</div>\n",
              "      <button class=\"colab-df-convert\" onclick=\"convertToInteractive('df-a7309f59-5fbd-40e5-8290-5f7ca0c68369')\"\n",
              "              title=\"Convert this dataframe to an interactive table.\"\n",
              "              style=\"display:none;\">\n",
              "        \n",
              "  <svg xmlns=\"http://www.w3.org/2000/svg\" height=\"24px\"viewBox=\"0 0 24 24\"\n",
              "       width=\"24px\">\n",
              "    <path d=\"M0 0h24v24H0V0z\" fill=\"none\"/>\n",
              "    <path d=\"M18.56 5.44l.94 2.06.94-2.06 2.06-.94-2.06-.94-.94-2.06-.94 2.06-2.06.94zm-11 1L8.5 8.5l.94-2.06 2.06-.94-2.06-.94L8.5 2.5l-.94 2.06-2.06.94zm10 10l.94 2.06.94-2.06 2.06-.94-2.06-.94-.94-2.06-.94 2.06-2.06.94z\"/><path d=\"M17.41 7.96l-1.37-1.37c-.4-.4-.92-.59-1.43-.59-.52 0-1.04.2-1.43.59L10.3 9.45l-7.72 7.72c-.78.78-.78 2.05 0 2.83L4 21.41c.39.39.9.59 1.41.59.51 0 1.02-.2 1.41-.59l7.78-7.78 2.81-2.81c.8-.78.8-2.07 0-2.86zM5.41 20L4 18.59l7.72-7.72 1.47 1.35L5.41 20z\"/>\n",
              "  </svg>\n",
              "      </button>\n",
              "      \n",
              "  <style>\n",
              "    .colab-df-container {\n",
              "      display:flex;\n",
              "      flex-wrap:wrap;\n",
              "      gap: 12px;\n",
              "    }\n",
              "\n",
              "    .colab-df-convert {\n",
              "      background-color: #E8F0FE;\n",
              "      border: none;\n",
              "      border-radius: 50%;\n",
              "      cursor: pointer;\n",
              "      display: none;\n",
              "      fill: #1967D2;\n",
              "      height: 32px;\n",
              "      padding: 0 0 0 0;\n",
              "      width: 32px;\n",
              "    }\n",
              "\n",
              "    .colab-df-convert:hover {\n",
              "      background-color: #E2EBFA;\n",
              "      box-shadow: 0px 1px 2px rgba(60, 64, 67, 0.3), 0px 1px 3px 1px rgba(60, 64, 67, 0.15);\n",
              "      fill: #174EA6;\n",
              "    }\n",
              "\n",
              "    [theme=dark] .colab-df-convert {\n",
              "      background-color: #3B4455;\n",
              "      fill: #D2E3FC;\n",
              "    }\n",
              "\n",
              "    [theme=dark] .colab-df-convert:hover {\n",
              "      background-color: #434B5C;\n",
              "      box-shadow: 0px 1px 3px 1px rgba(0, 0, 0, 0.15);\n",
              "      filter: drop-shadow(0px 1px 2px rgba(0, 0, 0, 0.3));\n",
              "      fill: #FFFFFF;\n",
              "    }\n",
              "  </style>\n",
              "\n",
              "      <script>\n",
              "        const buttonEl =\n",
              "          document.querySelector('#df-a7309f59-5fbd-40e5-8290-5f7ca0c68369 button.colab-df-convert');\n",
              "        buttonEl.style.display =\n",
              "          google.colab.kernel.accessAllowed ? 'block' : 'none';\n",
              "\n",
              "        async function convertToInteractive(key) {\n",
              "          const element = document.querySelector('#df-a7309f59-5fbd-40e5-8290-5f7ca0c68369');\n",
              "          const dataTable =\n",
              "            await google.colab.kernel.invokeFunction('convertToInteractive',\n",
              "                                                     [key], {});\n",
              "          if (!dataTable) return;\n",
              "\n",
              "          const docLinkHtml = 'Like what you see? Visit the ' +\n",
              "            '<a target=\"_blank\" href=https://colab.research.google.com/notebooks/data_table.ipynb>data table notebook</a>'\n",
              "            + ' to learn more about interactive tables.';\n",
              "          element.innerHTML = '';\n",
              "          dataTable['output_type'] = 'display_data';\n",
              "          await google.colab.output.renderOutput(dataTable, element);\n",
              "          const docLink = document.createElement('div');\n",
              "          docLink.innerHTML = docLinkHtml;\n",
              "          element.appendChild(docLink);\n",
              "        }\n",
              "      </script>\n",
              "    </div>\n",
              "  </div>\n",
              "  "
            ]
          },
          "metadata": {},
          "execution_count": 124
        }
      ]
    },
    {
      "cell_type": "code",
      "source": [
        "#df_pollution['HC'].sort_values(ascending=False)"
      ],
      "metadata": {
        "id": "gMsuWyzxxj35"
      },
      "execution_count": 125,
      "outputs": []
    },
    {
      "cell_type": "code",
      "source": [
        "df_pollution['HC'].sort_values(ascending=False)\n",
        "\n",
        "df_pollution.loc[df_pollution['NOX']>100,'NOX']=np.nan"
      ],
      "metadata": {
        "id": "HuPdyNJczqbs"
      },
      "execution_count": 126,
      "outputs": []
    },
    {
      "cell_type": "code",
      "source": [
        "df_pollution.loc[df_pollution['NOX'].isna(),'NOX']=df_pollution['NOX'].mean()\n",
        "\n",
        "# df_pollution.describe()"
      ],
      "metadata": {
        "id": "W2ZraiN11Bnk"
      },
      "execution_count": 127,
      "outputs": []
    },
    {
      "cell_type": "code",
      "source": [
        "#df_pollution['NOX'].sort_values(ascending=False)"
      ],
      "metadata": {
        "id": "IlZuieLg1eGc"
      },
      "execution_count": 128,
      "outputs": []
    },
    {
      "cell_type": "code",
      "source": [
        "df_pollution[['HC','NOX']].plot(x='HC',y='NOX', kind='scatter')"
      ],
      "metadata": {
        "id": "fpASLq5YxbkS",
        "outputId": "e2cd91b5-ae74-4ba5-bda1-1054bd2a1c18",
        "colab": {
          "base_uri": "https://localhost:8080/",
          "height": 299
        }
      },
      "execution_count": 129,
      "outputs": [
        {
          "output_type": "execute_result",
          "data": {
            "text/plain": [
              "<matplotlib.axes._subplots.AxesSubplot at 0x7f9afb1d4390>"
            ]
          },
          "metadata": {},
          "execution_count": 129
        },
        {
          "output_type": "display_data",
          "data": {
            "text/plain": [
              "<Figure size 432x288 with 1 Axes>"
            ],
            "image/png": "[encoded data removed]"
          },
          "metadata": {}
        }
      ]
    },
    {
      "cell_type": "code",
      "execution_count": 129,
      "metadata": {
        "ExecuteTime": {
          "end_time": "2022-02-23T16:52:43.534669Z",
          "start_time": "2022-02-23T16:52:43.473809Z"
        },
        "id": "m7BHBBaprppp"
      },
      "outputs": [],
      "source": [
        ""
      ]
    },
    {
      "cell_type": "code",
      "execution_count": 130,
      "metadata": {
        "ExecuteTime": {
          "end_time": "2022-02-23T16:52:43.568467Z",
          "start_time": "2022-02-23T16:52:43.538665Z"
        },
        "id": "CdSdH1UErppq",
        "outputId": "05fc2ff9-65f8-46a5-945f-08f88fe20515",
        "colab": {
          "base_uri": "https://localhost:8080/",
          "height": 363
        }
      },
      "outputs": [
        {
          "output_type": "execute_result",
          "data": {
            "text/plain": [
              "    variable_1 variable_2         r     abs_r\n",
              "203        NOX         HC  0.844236  0.844236\n",
              "188         HC        NOX  0.844236  0.844236\n",
              "220        SO@        NOX  0.757711  0.757711\n",
              "205        NOX        SO@  0.757711  0.757711\n",
              "138       NONW       POOR  0.704915  0.704915\n",
              "168       POOR       NONW  0.704915  0.704915\n",
              "89        EDUC      WWDRK  0.703196  0.703196\n",
              "149      WWDRK       EDUC  0.703196  0.703196\n",
              "106       HOUS       POOR -0.680680  0.680680\n",
              "166       POOR       HOUS -0.680680  0.680680"
            ],
            "text/html": [
              "\n",
              "  <div id=\"df-07a5eb30-d8fe-450c-b3f3-2f36601d61f2\">\n",
              "    <div class=\"colab-df-container\">\n",
              "      <div>\n",
              "<style scoped>\n",
              "    .dataframe tbody tr th:only-of-type {\n",
              "        vertical-align: middle;\n",
              "    }\n",
              "\n",
              "    .dataframe tbody tr th {\n",
              "        vertical-align: top;\n",
              "    }\n",
              "\n",
              "    .dataframe thead th {\n",
              "        text-align: right;\n",
              "    }\n",
              "</style>\n",
              "<table border=\"1\" class=\"dataframe\">\n",
              "  <thead>\n",
              "    <tr style=\"text-align: right;\">\n",
              "      <th></th>\n",
              "      <th>variable_1</th>\n",
              "      <th>variable_2</th>\n",
              "      <th>r</th>\n",
              "      <th>abs_r</th>\n",
              "    </tr>\n",
              "  </thead>\n",
              "  <tbody>\n",
              "    <tr>\n",
              "      <th>203</th>\n",
              "      <td>NOX</td>\n",
              "      <td>HC</td>\n",
              "      <td>0.844236</td>\n",
              "      <td>0.844236</td>\n",
              "    </tr>\n",
              "    <tr>\n",
              "      <th>188</th>\n",
              "      <td>HC</td>\n",
              "      <td>NOX</td>\n",
              "      <td>0.844236</td>\n",
              "      <td>0.844236</td>\n",
              "    </tr>\n",
              "    <tr>\n",
              "      <th>220</th>\n",
              "      <td>SO@</td>\n",
              "      <td>NOX</td>\n",
              "      <td>0.757711</td>\n",
              "      <td>0.757711</td>\n",
              "    </tr>\n",
              "    <tr>\n",
              "      <th>205</th>\n",
              "      <td>NOX</td>\n",
              "      <td>SO@</td>\n",
              "      <td>0.757711</td>\n",
              "      <td>0.757711</td>\n",
              "    </tr>\n",
              "    <tr>\n",
              "      <th>138</th>\n",
              "      <td>NONW</td>\n",
              "      <td>POOR</td>\n",
              "      <td>0.704915</td>\n",
              "      <td>0.704915</td>\n",
              "    </tr>\n",
              "    <tr>\n",
              "      <th>168</th>\n",
              "      <td>POOR</td>\n",
              "      <td>NONW</td>\n",
              "      <td>0.704915</td>\n",
              "      <td>0.704915</td>\n",
              "    </tr>\n",
              "    <tr>\n",
              "      <th>89</th>\n",
              "      <td>EDUC</td>\n",
              "      <td>WWDRK</td>\n",
              "      <td>0.703196</td>\n",
              "      <td>0.703196</td>\n",
              "    </tr>\n",
              "    <tr>\n",
              "      <th>149</th>\n",
              "      <td>WWDRK</td>\n",
              "      <td>EDUC</td>\n",
              "      <td>0.703196</td>\n",
              "      <td>0.703196</td>\n",
              "    </tr>\n",
              "    <tr>\n",
              "      <th>106</th>\n",
              "      <td>HOUS</td>\n",
              "      <td>POOR</td>\n",
              "      <td>-0.680680</td>\n",
              "      <td>0.680680</td>\n",
              "    </tr>\n",
              "    <tr>\n",
              "      <th>166</th>\n",
              "      <td>POOR</td>\n",
              "      <td>HOUS</td>\n",
              "      <td>-0.680680</td>\n",
              "      <td>0.680680</td>\n",
              "    </tr>\n",
              "  </tbody>\n",
              "</table>\n",
              "</div>\n",
              "      <button class=\"colab-df-convert\" onclick=\"convertToInteractive('df-07a5eb30-d8fe-450c-b3f3-2f36601d61f2')\"\n",
              "              title=\"Convert this dataframe to an interactive table.\"\n",
              "              style=\"display:none;\">\n",
              "        \n",
              "  <svg xmlns=\"http://www.w3.org/2000/svg\" height=\"24px\"viewBox=\"0 0 24 24\"\n",
              "       width=\"24px\">\n",
              "    <path d=\"M0 0h24v24H0V0z\" fill=\"none\"/>\n",
              "    <path d=\"M18.56 5.44l.94 2.06.94-2.06 2.06-.94-2.06-.94-.94-2.06-.94 2.06-2.06.94zm-11 1L8.5 8.5l.94-2.06 2.06-.94-2.06-.94L8.5 2.5l-.94 2.06-2.06.94zm10 10l.94 2.06.94-2.06 2.06-.94-2.06-.94-.94-2.06-.94 2.06-2.06.94z\"/><path d=\"M17.41 7.96l-1.37-1.37c-.4-.4-.92-.59-1.43-.59-.52 0-1.04.2-1.43.59L10.3 9.45l-7.72 7.72c-.78.78-.78 2.05 0 2.83L4 21.41c.39.39.9.59 1.41.59.51 0 1.02-.2 1.41-.59l7.78-7.78 2.81-2.81c.8-.78.8-2.07 0-2.86zM5.41 20L4 18.59l7.72-7.72 1.47 1.35L5.41 20z\"/>\n",
              "  </svg>\n",
              "      </button>\n",
              "      \n",
              "  <style>\n",
              "    .colab-df-container {\n",
              "      display:flex;\n",
              "      flex-wrap:wrap;\n",
              "      gap: 12px;\n",
              "    }\n",
              "\n",
              "    .colab-df-convert {\n",
              "      background-color: #E8F0FE;\n",
              "      border: none;\n",
              "      border-radius: 50%;\n",
              "      cursor: pointer;\n",
              "      display: none;\n",
              "      fill: #1967D2;\n",
              "      height: 32px;\n",
              "      padding: 0 0 0 0;\n",
              "      width: 32px;\n",
              "    }\n",
              "\n",
              "    .colab-df-convert:hover {\n",
              "      background-color: #E2EBFA;\n",
              "      box-shadow: 0px 1px 2px rgba(60, 64, 67, 0.3), 0px 1px 3px 1px rgba(60, 64, 67, 0.15);\n",
              "      fill: #174EA6;\n",
              "    }\n",
              "\n",
              "    [theme=dark] .colab-df-convert {\n",
              "      background-color: #3B4455;\n",
              "      fill: #D2E3FC;\n",
              "    }\n",
              "\n",
              "    [theme=dark] .colab-df-convert:hover {\n",
              "      background-color: #434B5C;\n",
              "      box-shadow: 0px 1px 3px 1px rgba(0, 0, 0, 0.15);\n",
              "      filter: drop-shadow(0px 1px 2px rgba(0, 0, 0, 0.3));\n",
              "      fill: #FFFFFF;\n",
              "    }\n",
              "  </style>\n",
              "\n",
              "      <script>\n",
              "        const buttonEl =\n",
              "          document.querySelector('#df-07a5eb30-d8fe-450c-b3f3-2f36601d61f2 button.colab-df-convert');\n",
              "        buttonEl.style.display =\n",
              "          google.colab.kernel.accessAllowed ? 'block' : 'none';\n",
              "\n",
              "        async function convertToInteractive(key) {\n",
              "          const element = document.querySelector('#df-07a5eb30-d8fe-450c-b3f3-2f36601d61f2');\n",
              "          const dataTable =\n",
              "            await google.colab.kernel.invokeFunction('convertToInteractive',\n",
              "                                                     [key], {});\n",
              "          if (!dataTable) return;\n",
              "\n",
              "          const docLinkHtml = 'Like what you see? Visit the ' +\n",
              "            '<a target=\"_blank\" href=https://colab.research.google.com/notebooks/data_table.ipynb>data table notebook</a>'\n",
              "            + ' to learn more about interactive tables.';\n",
              "          element.innerHTML = '';\n",
              "          dataTable['output_type'] = 'display_data';\n",
              "          await google.colab.output.renderOutput(dataTable, element);\n",
              "          const docLink = document.createElement('div');\n",
              "          docLink.innerHTML = docLinkHtml;\n",
              "          element.appendChild(docLink);\n",
              "        }\n",
              "      </script>\n",
              "    </div>\n",
              "  </div>\n",
              "  "
            ]
          },
          "metadata": {},
          "execution_count": 130
        }
      ],
      "source": [
        "# Correlación entre columnas numéricas\n",
        "# ==============================================================================\n",
        "\n",
        "def tidy_corr_matrix(corr_mat):\n",
        "    '''\n",
        "    Función para convertir una matriz de correlación de pandas en formato tidy\n",
        "    '''\n",
        "    corr_mat = corr_mat.stack().reset_index()\n",
        "    corr_mat.columns = ['variable_1','variable_2','r']\n",
        "    corr_mat = corr_mat.loc[corr_mat['variable_1'] != corr_mat['variable_2'], :]\n",
        "    corr_mat['abs_r'] = np.abs(corr_mat['r'])\n",
        "    corr_mat = corr_mat.sort_values('abs_r', ascending=False)\n",
        "    \n",
        "    return(corr_mat)\n",
        "\n",
        "corr_matrix = df_pollution.corr(method='pearson')\n",
        "tidy_corr_matrix(corr_matrix).head(10)"
      ]
    },
    {
      "cell_type": "code",
      "execution_count": 131,
      "metadata": {
        "ExecuteTime": {
          "end_time": "2022-02-23T16:52:45.136349Z",
          "start_time": "2022-02-23T16:52:43.570675Z"
        },
        "id": "2-FjHLHPrppr",
        "outputId": "b4a42ed4-4190-4010-871c-c9df11a421be",
        "colab": {
          "base_uri": "https://localhost:8080/",
          "height": 509
        }
      },
      "outputs": [
        {
          "output_type": "display_data",
          "data": {
            "text/plain": [
              "<Figure size 576x576 with 1 Axes>"
            ],
            "image/png": "[encoded data removed]"
          },
          "metadata": {}
        }
      ],
      "source": [
        "# Heatmap matriz de correlaciones\n",
        "# ==============================================================================\n",
        "fig, ax = plt.subplots(nrows=1, ncols=1, figsize=(8, 8))\n",
        "\n",
        "sns.heatmap(\n",
        "    corr_matrix,\n",
        "    annot     = True,\n",
        "    cbar      = False,\n",
        "    annot_kws = {\"size\": 8},\n",
        "    vmin      = -1,\n",
        "    vmax      = 1,\n",
        "    center    = 0,\n",
        "    cmap      = sns.diverging_palette(20, 220, n=200),\n",
        "    square    = True,\n",
        "    ax        = ax\n",
        ")\n",
        "\n",
        "ax.set_xticklabels(\n",
        "    ax.get_xticklabels(),\n",
        "    rotation = 45,\n",
        "    horizontalalignment = 'right',\n",
        ")\n",
        "\n",
        "ax.tick_params(labelsize = 10)"
      ]
    },
    {
      "cell_type": "markdown",
      "metadata": {
        "id": "DIUxABPyrppr"
      },
      "source": [
        "## Base de datos de Entrenamiento y Testeo"
      ]
    },
    {
      "cell_type": "markdown",
      "metadata": {
        "id": "lkglr73Zrpps"
      },
      "source": [
        "Extraer un 80% de la base de datos para entrenamiento y el otro 20% para testeo."
      ]
    },
    {
      "cell_type": "code",
      "execution_count": 132,
      "metadata": {
        "ExecuteTime": {
          "end_time": "2022-02-23T16:52:45.152339Z",
          "start_time": "2022-02-23T16:52:45.138348Z"
        },
        "id": "qZJOpP4Prpps",
        "outputId": "2ace8bfd-7b9b-4306-bb4d-0eb3cd7e6625",
        "colab": {
          "base_uri": "https://localhost:8080/"
        }
      },
      "outputs": [
        {
          "output_type": "stream",
          "name": "stdout",
          "text": [
            "(48, 15) (12, 15)\n"
          ]
        }
      ],
      "source": [
        "X = df_pollution.iloc[:,:-1] # Todas las columnas menos la última (variables independientes)\n",
        "y = df_pollution['MORT'] # Salida (variable dependiente)\n",
        "X_train, X_test, y_train, y_test = train_test_split(X, y, train_size   = 0.8, random_state = 1234, shuffle=True)\n",
        "print(X_train.shape, X_test.shape)"
      ]
    },
    {
      "cell_type": "markdown",
      "metadata": {
        "id": "hfVJTW2Erpps"
      },
      "source": [
        "## Creación y análisis del modelo con todas las Variables"
      ]
    },
    {
      "cell_type": "markdown",
      "metadata": {
        "id": "Mw4Uezv_rpps"
      },
      "source": [
        "Usando la función OLS() del paquete *statsmodels* vamos a realizar diversos modelos lineales intentando mejorar lo máximo posible el R2 ajustado (*Adj. R-squared*).\n",
        "1. Crear un modelo lineal con la base de datos de entrenamiento usando todas las variables independientes.\n",
        "2. Analizar los p-valores de las variables considerando un nivel de confianza del 95% (nivel de significación del p-value<0.05). ¿Cuántas variables independientes están por debajo de ese umbral?\n",
        "3. Calcular el RMSE y MAE con la matriz de testeo. Interprete el modelo y explique el significado de los errores RMSE y MAE obtenidos.\n",
        "4. Analizar los coeficientes de las variables climatológicas vs los valores de la matriz de correlación. ¿Qué ocurre aquí?\n",
        "**Justifica todas las respuestas.**\n",
        "\n",
        "Nota: *repasar en https://www.cienciadedatos.net/documentos/py10-regresion-lineal-python.html los apartados relativos a la bondad del ajuste del modelo, las significancia del modelo F-test y de los predictores*.\n"
      ]
    },
    {
      "cell_type": "code",
      "source": [
        "X_train.head()"
      ],
      "metadata": {
        "id": "hnsvn2tL0Eq8",
        "outputId": "0b7e67bd-ea6e-4d95-b78d-78830de18eb2",
        "colab": {
          "base_uri": "https://localhost:8080/",
          "height": 206
        }
      },
      "execution_count": 133,
      "outputs": [
        {
          "output_type": "execute_result",
          "data": {
            "text/plain": [
              "    PREC  JANT  JULT  OVR65  POPN  EDUC  HOUS    DENS  NONW  WWDRK  POOR  \\\n",
              "4   43.0  35.0  77.0    7.6  3.44   9.6  84.6  6441.0  24.4   43.7  14.3   \n",
              "20  31.0  45.0  85.0    7.3  3.22  11.4  80.7  1844.0  11.5   48.1  18.5   \n",
              "46  10.0  55.0  70.0    7.3  3.11  12.1  88.9  3033.0   5.9   51.0  14.0   \n",
              "27  43.0  32.0  74.0   10.1  3.38   9.5  79.2  3214.0   2.9   43.7  12.0   \n",
              "21  31.0  24.0  72.0    9.0  3.37  10.9  82.8  3226.0   5.1   45.2  12.3   \n",
              "\n",
              "       HC   NOX    SO@  HUMID  \n",
              "4    43.0  38.0  206.0   55.0  \n",
              "20    1.0   1.0    1.0   53.0  \n",
              "46  144.0  66.0   20.0   61.0  \n",
              "27   11.0   7.0   32.0   54.0  \n",
              "21    5.0   3.0   10.0   61.0  "
            ],
            "text/html": [
              "\n",
              "  <div id=\"df-68f9ac25-0e79-4201-a6d9-fc150a06ced7\">\n",
              "    <div class=\"colab-df-container\">\n",
              "      <div>\n",
              "<style scoped>\n",
              "    .dataframe tbody tr th:only-of-type {\n",
              "        vertical-align: middle;\n",
              "    }\n",
              "\n",
              "    .dataframe tbody tr th {\n",
              "        vertical-align: top;\n",
              "    }\n",
              "\n",
              "    .dataframe thead th {\n",
              "        text-align: right;\n",
              "    }\n",
              "</style>\n",
              "<table border=\"1\" class=\"dataframe\">\n",
              "  <thead>\n",
              "    <tr style=\"text-align: right;\">\n",
              "      <th></th>\n",
              "      <th>PREC</th>\n",
              "      <th>JANT</th>\n",
              "      <th>JULT</th>\n",
              "      <th>OVR65</th>\n",
              "      <th>POPN</th>\n",
              "      <th>EDUC</th>\n",
              "      <th>HOUS</th>\n",
              "      <th>DENS</th>\n",
              "      <th>NONW</th>\n",
              "      <th>WWDRK</th>\n",
              "      <th>POOR</th>\n",
              "      <th>HC</th>\n",
              "      <th>NOX</th>\n",
              "      <th>SO@</th>\n",
              "      <th>HUMID</th>\n",
              "    </tr>\n",
              "  </thead>\n",
              "  <tbody>\n",
              "    <tr>\n",
              "      <th>4</th>\n",
              "      <td>43.0</td>\n",
              "      <td>35.0</td>\n",
              "      <td>77.0</td>\n",
              "      <td>7.6</td>\n",
              "      <td>3.44</td>\n",
              "      <td>9.6</td>\n",
              "      <td>84.6</td>\n",
              "      <td>6441.0</td>\n",
              "      <td>24.4</td>\n",
              "      <td>43.7</td>\n",
              "      <td>14.3</td>\n",
              "      <td>43.0</td>\n",
              "      <td>38.0</td>\n",
              "      <td>206.0</td>\n",
              "      <td>55.0</td>\n",
              "    </tr>\n",
              "    <tr>\n",
              "      <th>20</th>\n",
              "      <td>31.0</td>\n",
              "      <td>45.0</td>\n",
              "      <td>85.0</td>\n",
              "      <td>7.3</td>\n",
              "      <td>3.22</td>\n",
              "      <td>11.4</td>\n",
              "      <td>80.7</td>\n",
              "      <td>1844.0</td>\n",
              "      <td>11.5</td>\n",
              "      <td>48.1</td>\n",
              "      <td>18.5</td>\n",
              "      <td>1.0</td>\n",
              "      <td>1.0</td>\n",
              "      <td>1.0</td>\n",
              "      <td>53.0</td>\n",
              "    </tr>\n",
              "    <tr>\n",
              "      <th>46</th>\n",
              "      <td>10.0</td>\n",
              "      <td>55.0</td>\n",
              "      <td>70.0</td>\n",
              "      <td>7.3</td>\n",
              "      <td>3.11</td>\n",
              "      <td>12.1</td>\n",
              "      <td>88.9</td>\n",
              "      <td>3033.0</td>\n",
              "      <td>5.9</td>\n",
              "      <td>51.0</td>\n",
              "      <td>14.0</td>\n",
              "      <td>144.0</td>\n",
              "      <td>66.0</td>\n",
              "      <td>20.0</td>\n",
              "      <td>61.0</td>\n",
              "    </tr>\n",
              "    <tr>\n",
              "      <th>27</th>\n",
              "      <td>43.0</td>\n",
              "      <td>32.0</td>\n",
              "      <td>74.0</td>\n",
              "      <td>10.1</td>\n",
              "      <td>3.38</td>\n",
              "      <td>9.5</td>\n",
              "      <td>79.2</td>\n",
              "      <td>3214.0</td>\n",
              "      <td>2.9</td>\n",
              "      <td>43.7</td>\n",
              "      <td>12.0</td>\n",
              "      <td>11.0</td>\n",
              "      <td>7.0</td>\n",
              "      <td>32.0</td>\n",
              "      <td>54.0</td>\n",
              "    </tr>\n",
              "    <tr>\n",
              "      <th>21</th>\n",
              "      <td>31.0</td>\n",
              "      <td>24.0</td>\n",
              "      <td>72.0</td>\n",
              "      <td>9.0</td>\n",
              "      <td>3.37</td>\n",
              "      <td>10.9</td>\n",
              "      <td>82.8</td>\n",
              "      <td>3226.0</td>\n",
              "      <td>5.1</td>\n",
              "      <td>45.2</td>\n",
              "      <td>12.3</td>\n",
              "      <td>5.0</td>\n",
              "      <td>3.0</td>\n",
              "      <td>10.0</td>\n",
              "      <td>61.0</td>\n",
              "    </tr>\n",
              "  </tbody>\n",
              "</table>\n",
              "</div>\n",
              "      <button class=\"colab-df-convert\" onclick=\"convertToInteractive('df-68f9ac25-0e79-4201-a6d9-fc150a06ced7')\"\n",
              "              title=\"Convert this dataframe to an interactive table.\"\n",
              "              style=\"display:none;\">\n",
              "        \n",
              "  <svg xmlns=\"http://www.w3.org/2000/svg\" height=\"24px\"viewBox=\"0 0 24 24\"\n",
              "       width=\"24px\">\n",
              "    <path d=\"M0 0h24v24H0V0z\" fill=\"none\"/>\n",
              "    <path d=\"M18.56 5.44l.94 2.06.94-2.06 2.06-.94-2.06-.94-.94-2.06-.94 2.06-2.06.94zm-11 1L8.5 8.5l.94-2.06 2.06-.94-2.06-.94L8.5 2.5l-.94 2.06-2.06.94zm10 10l.94 2.06.94-2.06 2.06-.94-2.06-.94-.94-2.06-.94 2.06-2.06.94z\"/><path d=\"M17.41 7.96l-1.37-1.37c-.4-.4-.92-.59-1.43-.59-.52 0-1.04.2-1.43.59L10.3 9.45l-7.72 7.72c-.78.78-.78 2.05 0 2.83L4 21.41c.39.39.9.59 1.41.59.51 0 1.02-.2 1.41-.59l7.78-7.78 2.81-2.81c.8-.78.8-2.07 0-2.86zM5.41 20L4 18.59l7.72-7.72 1.47 1.35L5.41 20z\"/>\n",
              "  </svg>\n",
              "      </button>\n",
              "      \n",
              "  <style>\n",
              "    .colab-df-container {\n",
              "      display:flex;\n",
              "      flex-wrap:wrap;\n",
              "      gap: 12px;\n",
              "    }\n",
              "\n",
              "    .colab-df-convert {\n",
              "      background-color: #E8F0FE;\n",
              "      border: none;\n",
              "      border-radius: 50%;\n",
              "      cursor: pointer;\n",
              "      display: none;\n",
              "      fill: #1967D2;\n",
              "      height: 32px;\n",
              "      padding: 0 0 0 0;\n",
              "      width: 32px;\n",
              "    }\n",
              "\n",
              "    .colab-df-convert:hover {\n",
              "      background-color: #E2EBFA;\n",
              "      box-shadow: 0px 1px 2px rgba(60, 64, 67, 0.3), 0px 1px 3px 1px rgba(60, 64, 67, 0.15);\n",
              "      fill: #174EA6;\n",
              "    }\n",
              "\n",
              "    [theme=dark] .colab-df-convert {\n",
              "      background-color: #3B4455;\n",
              "      fill: #D2E3FC;\n",
              "    }\n",
              "\n",
              "    [theme=dark] .colab-df-convert:hover {\n",
              "      background-color: #434B5C;\n",
              "      box-shadow: 0px 1px 3px 1px rgba(0, 0, 0, 0.15);\n",
              "      filter: drop-shadow(0px 1px 2px rgba(0, 0, 0, 0.3));\n",
              "      fill: #FFFFFF;\n",
              "    }\n",
              "  </style>\n",
              "\n",
              "      <script>\n",
              "        const buttonEl =\n",
              "          document.querySelector('#df-68f9ac25-0e79-4201-a6d9-fc150a06ced7 button.colab-df-convert');\n",
              "        buttonEl.style.display =\n",
              "          google.colab.kernel.accessAllowed ? 'block' : 'none';\n",
              "\n",
              "        async function convertToInteractive(key) {\n",
              "          const element = document.querySelector('#df-68f9ac25-0e79-4201-a6d9-fc150a06ced7');\n",
              "          const dataTable =\n",
              "            await google.colab.kernel.invokeFunction('convertToInteractive',\n",
              "                                                     [key], {});\n",
              "          if (!dataTable) return;\n",
              "\n",
              "          const docLinkHtml = 'Like what you see? Visit the ' +\n",
              "            '<a target=\"_blank\" href=https://colab.research.google.com/notebooks/data_table.ipynb>data table notebook</a>'\n",
              "            + ' to learn more about interactive tables.';\n",
              "          element.innerHTML = '';\n",
              "          dataTable['output_type'] = 'display_data';\n",
              "          await google.colab.output.renderOutput(dataTable, element);\n",
              "          const docLink = document.createElement('div');\n",
              "          docLink.innerHTML = docLinkHtml;\n",
              "          element.appendChild(docLink);\n",
              "        }\n",
              "      </script>\n",
              "    </div>\n",
              "  </div>\n",
              "  "
            ]
          },
          "metadata": {},
          "execution_count": 133
        }
      ]
    },
    {
      "cell_type": "markdown",
      "source": [
        "PARA QUITAR VARIABLES"
      ],
      "metadata": {
        "id": "itqc8PI1Sbt4"
      }
    },
    {
      "cell_type": "code",
      "source": [
        "\n",
        "#CREAR UN MODELO CON LAS NUEVAS COLUMNAS\n",
        "# modelo  = sm.OLS(endog=y_train, exog=X_train,)\n",
        "# seleccionadas=np.setdiff1d(feat_names,['NOX','POPN'])\n",
        "# print(seleccionadas)\n",
        "# X_train_new =sm.add_constant(X_train[seleccionadas],prepend=True)\n",
        "# modelo  = modelo.fit()\n",
        "# print(modelo.summary())"
      ],
      "metadata": {
        "id": "G-zh4C-Q-ykl"
      },
      "execution_count": 134,
      "outputs": []
    },
    {
      "cell_type": "code",
      "execution_count": 135,
      "metadata": {
        "ExecuteTime": {
          "end_time": "2022-02-23T16:52:45.302093Z",
          "start_time": "2022-02-23T16:52:45.154339Z"
        },
        "id": "91IMki9Yrppt",
        "outputId": "d7ce9c56-31a0-43e8-c255-f93f4faa4cbd",
        "colab": {
          "base_uri": "https://localhost:8080/"
        }
      },
      "outputs": [
        {
          "output_type": "stream",
          "name": "stdout",
          "text": [
            "                            OLS Regression Results                            \n",
            "==============================================================================\n",
            "Dep. Variable:                   MORT   R-squared:                       0.796\n",
            "Model:                            OLS   Adj. R-squared:                  0.701\n",
            "Method:                 Least Squares   F-statistic:                     8.332\n",
            "Date:                Tue, 29 Mar 2022   Prob (F-statistic):           3.06e-07\n",
            "Time:                        16:07:10   Log-Likelihood:                -230.17\n",
            "No. Observations:                  48   AIC:                             492.3\n",
            "Df Residuals:                      32   BIC:                             522.3\n",
            "Df Model:                          15                                         \n",
            "Covariance Type:            nonrobust                                         \n",
            "==============================================================================\n",
            "                 coef    std err          t      P>|t|      [0.025      0.975]\n",
            "------------------------------------------------------------------------------\n",
            "const       1966.1026    614.344      3.200      0.003     714.724    3217.481\n",
            "PREC           2.5105      1.096      2.291      0.029       0.278       4.743\n",
            "JANT          -2.7137      1.259     -2.155      0.039      -5.278      -0.149\n",
            "JULT          -2.5890      2.117     -1.223      0.230      -6.902       1.724\n",
            "OVR65        -12.6883      9.807     -1.294      0.205     -32.665       7.289\n",
            "POPN        -197.1501     89.583     -2.201      0.035    -379.625     -14.676\n",
            "EDUC         -22.9190     15.650     -1.465      0.153     -54.796       8.958\n",
            "HOUS           1.4224      2.521      0.564      0.577      -3.713       6.558\n",
            "DENS           0.0008      0.005      0.149      0.882      -0.010       0.011\n",
            "NONW           4.9893      1.878      2.657      0.012       1.164       8.815\n",
            "WWDRK         -0.5838      1.890     -0.309      0.759      -4.433       3.265\n",
            "POOR           1.3327      4.358      0.306      0.762      -7.543      10.209\n",
            "HC            -0.2733      0.956     -0.286      0.777      -2.220       1.673\n",
            "NOX            1.1130      2.001      0.556      0.582      -2.963       5.189\n",
            "SO@            0.0143      0.218      0.066      0.948      -0.430       0.459\n",
            "HUMID         -0.1548      1.319     -0.117      0.907      -2.842       2.533\n",
            "==============================================================================\n",
            "Omnibus:                        5.050   Durbin-Watson:                   2.200\n",
            "Prob(Omnibus):                  0.080   Jarque-Bera (JB):                3.893\n",
            "Skew:                           0.565   Prob(JB):                        0.143\n",
            "Kurtosis:                       3.819   Cond. No.                     4.85e+05\n",
            "==============================================================================\n",
            "\n",
            "Warnings:\n",
            "[1] Standard Errors assume that the covariance matrix of the errors is correctly specified.\n",
            "[2] The condition number is large, 4.85e+05. This might indicate that there are\n",
            "strong multicollinearity or other numerical problems.\n"
          ]
        }
      ],
      "source": [
        "# A la matriz de predictores se le tiene que añadir una columna de 1s para el\n",
        "# intercept del modelo\n",
        "\n",
        "feat_names=X_train.columns\n",
        "X_train = sm.add_constant(X_train, prepend=True)\n",
        "modelo  = sm.OLS(endog=y_train, exog=X_train,)\n",
        "modelo  = modelo.fit()\n",
        "print(modelo.summary())\n",
        "\n",
        "# El warning de abajo nos dice que quitemos las variables correladas y volvamos a hacer el summary\n",
        "# Al haber muchas variables correladas/colineales el pvalor no es el real"
      ]
    },
    {
      "cell_type": "code",
      "source": [
        "# P VALOR P>|T|:\n",
        "  # ESTÁN EN PROCENTAJE, CUANTO MÁS BAJO + SIGNIFICATIVA\n",
        "\n",
        "  # INTERVALOS DE CONFIANZA:\n",
        "  # SI VA DE NEGATIVO A POSITIVO INDICA QUE ESTA EL 0 EN MEDIO, \n",
        "  # ENTONCES PUEDE PASAR QUE EL COEFICIENTE SEA 0 -> NO CUENTE\n",
        "\n",
        "  # COLINEALIDAD: similar a correlada"
      ],
      "metadata": {
        "id": "2j5dq2s6Q90_"
      },
      "execution_count": 136,
      "outputs": []
    },
    {
      "cell_type": "code",
      "execution_count": 137,
      "metadata": {
        "ExecuteTime": {
          "end_time": "2022-02-23T16:52:45.319930Z",
          "start_time": "2022-02-23T16:52:45.304371Z"
        },
        "id": "z8CJMdF4rppt",
        "outputId": "71cd8b0d-cb65-4570-e73c-18619228b6c4",
        "colab": {
          "base_uri": "https://localhost:8080/"
        }
      },
      "outputs": [
        {
          "output_type": "stream",
          "name": "stdout",
          "text": [
            "MAE=33.143, RMSE=39.023\n"
          ]
        }
      ],
      "source": [
        "# MAE + RMSE\n",
        "\n",
        "from sklearn.metrics import mean_absolute_error, mean_squared_error\n",
        "X_test = sm.add_constant(X_test, prepend=True)\n",
        "y_hat = modelo.predict(X_test)\n",
        "MAE = mean_absolute_error(y_test, y_hat)\n",
        "RMSE = mean_squared_error(y_test, y_hat, squared=False)\n",
        "print(f'MAE={MAE:0.3f}, RMSE={RMSE:0.3f}')"
      ]
    },
    {
      "cell_type": "markdown",
      "source": [
        "quitamos POOR NOX Y WDORK"
      ],
      "metadata": {
        "id": "tNQaH_7wSqFg"
      }
    },
    {
      "cell_type": "code",
      "source": [
        "selec=np.setdiff1d(feat_names,['NOX','POOR','WWDRK'])\n",
        "print(selec)\n"
      ],
      "metadata": {
        "id": "B4yKtpD7SBTe",
        "outputId": "330fe174-623b-4c64-fc85-b918dd0311ea",
        "colab": {
          "base_uri": "https://localhost:8080/"
        }
      },
      "execution_count": 138,
      "outputs": [
        {
          "output_type": "stream",
          "name": "stdout",
          "text": [
            "['DENS' 'EDUC' 'HC' 'HOUS' 'HUMID' 'JANT' 'JULT' 'NONW' 'OVR65' 'POPN'\n",
            " 'PREC' 'SO@']\n"
          ]
        }
      ]
    },
    {
      "cell_type": "code",
      "source": [
        "\n",
        "corr_matrix = X_train_new.corr(method='pearson')\n",
        "tidy_corr_matrix(corr_matrix).head(10)"
      ],
      "metadata": {
        "id": "UlBYcv0zTr5z",
        "outputId": "cc1359b2-52ee-4006-a61c-576a0d04c7ca",
        "colab": {
          "base_uri": "https://localhost:8080/",
          "height": 363
        }
      },
      "execution_count": 139,
      "outputs": [
        {
          "output_type": "execute_result",
          "data": {
            "text/plain": [
              "    variable_1 variable_2         r     abs_r\n",
              "46        HOUS       PREC -0.660297  0.660297\n",
              "123       PREC       HOUS -0.660297  0.660297\n",
              "121       PREC       EDUC -0.642114  0.642114\n",
              "22        EDUC       PREC -0.642114  0.642114\n",
              "103      OVR65       NONW -0.606982  0.606982\n",
              "92        NONW      OVR65 -0.606982  0.606982\n",
              "90        NONW       JULT  0.584333  0.584333\n",
              "79        JULT       NONW  0.584333  0.584333\n",
              "132        SO@       DENS  0.537481  0.537481\n",
              "11        DENS        SO@  0.537481  0.537481"
            ],
            "text/html": [
              "\n",
              "  <div id=\"df-a96703c2-1ccd-4752-8888-2e8fcdab482f\">\n",
              "    <div class=\"colab-df-container\">\n",
              "      <div>\n",
              "<style scoped>\n",
              "    .dataframe tbody tr th:only-of-type {\n",
              "        vertical-align: middle;\n",
              "    }\n",
              "\n",
              "    .dataframe tbody tr th {\n",
              "        vertical-align: top;\n",
              "    }\n",
              "\n",
              "    .dataframe thead th {\n",
              "        text-align: right;\n",
              "    }\n",
              "</style>\n",
              "<table border=\"1\" class=\"dataframe\">\n",
              "  <thead>\n",
              "    <tr style=\"text-align: right;\">\n",
              "      <th></th>\n",
              "      <th>variable_1</th>\n",
              "      <th>variable_2</th>\n",
              "      <th>r</th>\n",
              "      <th>abs_r</th>\n",
              "    </tr>\n",
              "  </thead>\n",
              "  <tbody>\n",
              "    <tr>\n",
              "      <th>46</th>\n",
              "      <td>HOUS</td>\n",
              "      <td>PREC</td>\n",
              "      <td>-0.660297</td>\n",
              "      <td>0.660297</td>\n",
              "    </tr>\n",
              "    <tr>\n",
              "      <th>123</th>\n",
              "      <td>PREC</td>\n",
              "      <td>HOUS</td>\n",
              "      <td>-0.660297</td>\n",
              "      <td>0.660297</td>\n",
              "    </tr>\n",
              "    <tr>\n",
              "      <th>121</th>\n",
              "      <td>PREC</td>\n",
              "      <td>EDUC</td>\n",
              "      <td>-0.642114</td>\n",
              "      <td>0.642114</td>\n",
              "    </tr>\n",
              "    <tr>\n",
              "      <th>22</th>\n",
              "      <td>EDUC</td>\n",
              "      <td>PREC</td>\n",
              "      <td>-0.642114</td>\n",
              "      <td>0.642114</td>\n",
              "    </tr>\n",
              "    <tr>\n",
              "      <th>103</th>\n",
              "      <td>OVR65</td>\n",
              "      <td>NONW</td>\n",
              "      <td>-0.606982</td>\n",
              "      <td>0.606982</td>\n",
              "    </tr>\n",
              "    <tr>\n",
              "      <th>92</th>\n",
              "      <td>NONW</td>\n",
              "      <td>OVR65</td>\n",
              "      <td>-0.606982</td>\n",
              "      <td>0.606982</td>\n",
              "    </tr>\n",
              "    <tr>\n",
              "      <th>90</th>\n",
              "      <td>NONW</td>\n",
              "      <td>JULT</td>\n",
              "      <td>0.584333</td>\n",
              "      <td>0.584333</td>\n",
              "    </tr>\n",
              "    <tr>\n",
              "      <th>79</th>\n",
              "      <td>JULT</td>\n",
              "      <td>NONW</td>\n",
              "      <td>0.584333</td>\n",
              "      <td>0.584333</td>\n",
              "    </tr>\n",
              "    <tr>\n",
              "      <th>132</th>\n",
              "      <td>SO@</td>\n",
              "      <td>DENS</td>\n",
              "      <td>0.537481</td>\n",
              "      <td>0.537481</td>\n",
              "    </tr>\n",
              "    <tr>\n",
              "      <th>11</th>\n",
              "      <td>DENS</td>\n",
              "      <td>SO@</td>\n",
              "      <td>0.537481</td>\n",
              "      <td>0.537481</td>\n",
              "    </tr>\n",
              "  </tbody>\n",
              "</table>\n",
              "</div>\n",
              "      <button class=\"colab-df-convert\" onclick=\"convertToInteractive('df-a96703c2-1ccd-4752-8888-2e8fcdab482f')\"\n",
              "              title=\"Convert this dataframe to an interactive table.\"\n",
              "              style=\"display:none;\">\n",
              "        \n",
              "  <svg xmlns=\"http://www.w3.org/2000/svg\" height=\"24px\"viewBox=\"0 0 24 24\"\n",
              "       width=\"24px\">\n",
              "    <path d=\"M0 0h24v24H0V0z\" fill=\"none\"/>\n",
              "    <path d=\"M18.56 5.44l.94 2.06.94-2.06 2.06-.94-2.06-.94-.94-2.06-.94 2.06-2.06.94zm-11 1L8.5 8.5l.94-2.06 2.06-.94-2.06-.94L8.5 2.5l-.94 2.06-2.06.94zm10 10l.94 2.06.94-2.06 2.06-.94-2.06-.94-.94-2.06-.94 2.06-2.06.94z\"/><path d=\"M17.41 7.96l-1.37-1.37c-.4-.4-.92-.59-1.43-.59-.52 0-1.04.2-1.43.59L10.3 9.45l-7.72 7.72c-.78.78-.78 2.05 0 2.83L4 21.41c.39.39.9.59 1.41.59.51 0 1.02-.2 1.41-.59l7.78-7.78 2.81-2.81c.8-.78.8-2.07 0-2.86zM5.41 20L4 18.59l7.72-7.72 1.47 1.35L5.41 20z\"/>\n",
              "  </svg>\n",
              "      </button>\n",
              "      \n",
              "  <style>\n",
              "    .colab-df-container {\n",
              "      display:flex;\n",
              "      flex-wrap:wrap;\n",
              "      gap: 12px;\n",
              "    }\n",
              "\n",
              "    .colab-df-convert {\n",
              "      background-color: #E8F0FE;\n",
              "      border: none;\n",
              "      border-radius: 50%;\n",
              "      cursor: pointer;\n",
              "      display: none;\n",
              "      fill: #1967D2;\n",
              "      height: 32px;\n",
              "      padding: 0 0 0 0;\n",
              "      width: 32px;\n",
              "    }\n",
              "\n",
              "    .colab-df-convert:hover {\n",
              "      background-color: #E2EBFA;\n",
              "      box-shadow: 0px 1px 2px rgba(60, 64, 67, 0.3), 0px 1px 3px 1px rgba(60, 64, 67, 0.15);\n",
              "      fill: #174EA6;\n",
              "    }\n",
              "\n",
              "    [theme=dark] .colab-df-convert {\n",
              "      background-color: #3B4455;\n",
              "      fill: #D2E3FC;\n",
              "    }\n",
              "\n",
              "    [theme=dark] .colab-df-convert:hover {\n",
              "      background-color: #434B5C;\n",
              "      box-shadow: 0px 1px 3px 1px rgba(0, 0, 0, 0.15);\n",
              "      filter: drop-shadow(0px 1px 2px rgba(0, 0, 0, 0.3));\n",
              "      fill: #FFFFFF;\n",
              "    }\n",
              "  </style>\n",
              "\n",
              "      <script>\n",
              "        const buttonEl =\n",
              "          document.querySelector('#df-a96703c2-1ccd-4752-8888-2e8fcdab482f button.colab-df-convert');\n",
              "        buttonEl.style.display =\n",
              "          google.colab.kernel.accessAllowed ? 'block' : 'none';\n",
              "\n",
              "        async function convertToInteractive(key) {\n",
              "          const element = document.querySelector('#df-a96703c2-1ccd-4752-8888-2e8fcdab482f');\n",
              "          const dataTable =\n",
              "            await google.colab.kernel.invokeFunction('convertToInteractive',\n",
              "                                                     [key], {});\n",
              "          if (!dataTable) return;\n",
              "\n",
              "          const docLinkHtml = 'Like what you see? Visit the ' +\n",
              "            '<a target=\"_blank\" href=https://colab.research.google.com/notebooks/data_table.ipynb>data table notebook</a>'\n",
              "            + ' to learn more about interactive tables.';\n",
              "          element.innerHTML = '';\n",
              "          dataTable['output_type'] = 'display_data';\n",
              "          await google.colab.output.renderOutput(dataTable, element);\n",
              "          const docLink = document.createElement('div');\n",
              "          docLink.innerHTML = docLinkHtml;\n",
              "          element.appendChild(docLink);\n",
              "        }\n",
              "      </script>\n",
              "    </div>\n",
              "  </div>\n",
              "  "
            ]
          },
          "metadata": {},
          "execution_count": 139
        }
      ]
    },
    {
      "cell_type": "code",
      "source": [
        "X_train_new =sm.add_constant(X_train[selec],prepend=True)\n",
        "X_test_new = sm.add_constant(X_test[selec], prepend=True)\n",
        "modelo  = sm.OLS(endog=y_train, exog=X_train_new,)\n",
        "modelo  = modelo.fit()\n",
        "print(modelo.summary())"
      ],
      "metadata": {
        "id": "pm4AoqWlTid0",
        "outputId": "19994c58-5fde-4b81-cd0f-7f744c93c531",
        "colab": {
          "base_uri": "https://localhost:8080/"
        }
      },
      "execution_count": 152,
      "outputs": [
        {
          "output_type": "stream",
          "name": "stdout",
          "text": [
            "                            OLS Regression Results                            \n",
            "==============================================================================\n",
            "Dep. Variable:                   MORT   R-squared:                       0.793\n",
            "Model:                            OLS   Adj. R-squared:                  0.721\n",
            "Method:                 Least Squares   F-statistic:                     11.14\n",
            "Date:                Tue, 29 Mar 2022   Prob (F-statistic):           1.12e-08\n",
            "Time:                        16:10:59   Log-Likelihood:                -230.59\n",
            "No. Observations:                  48   AIC:                             487.2\n",
            "Df Residuals:                      35   BIC:                             511.5\n",
            "Df Model:                          12                                         \n",
            "Covariance Type:            nonrobust                                         \n",
            "==============================================================================\n",
            "                 coef    std err          t      P>|t|      [0.025      0.975]\n",
            "------------------------------------------------------------------------------\n",
            "const       2030.0995    556.221      3.650      0.001     900.911    3159.288\n",
            "DENS       -1.578e-05      0.005     -0.003      0.997      -0.010       0.010\n",
            "EDUC         -27.6167     12.751     -2.166      0.037     -53.503      -1.730\n",
            "HC             0.2319      0.283      0.818      0.419      -0.343       0.807\n",
            "HOUS           1.0294      1.800      0.572      0.571      -2.625       4.684\n",
            "HUMID         -0.3700      1.205     -0.307      0.761      -2.816       2.076\n",
            "JANT          -2.7263      1.052     -2.591      0.014      -4.863      -0.590\n",
            "JULT          -2.4172      1.975     -1.224      0.229      -6.427       1.593\n",
            "NONW           5.6638      1.331      4.256      0.000       2.962       8.365\n",
            "OVR65        -11.4654      8.957     -1.280      0.209     -29.649       6.718\n",
            "POPN        -196.9775     85.540     -2.303      0.027    -370.633     -23.322\n",
            "PREC           2.4085      1.018      2.366      0.024       0.342       4.475\n",
            "SO@            0.0842      0.150      0.560      0.579      -0.221       0.389\n",
            "==============================================================================\n",
            "Omnibus:                        6.090   Durbin-Watson:                   2.181\n",
            "Prob(Omnibus):                  0.048   Jarque-Bera (JB):                5.086\n",
            "Skew:                           0.606   Prob(JB):                       0.0786\n",
            "Kurtosis:                       4.037   Cond. No.                     4.56e+05\n",
            "==============================================================================\n",
            "\n",
            "Warnings:\n",
            "[1] Standard Errors assume that the covariance matrix of the errors is correctly specified.\n",
            "[2] The condition number is large, 4.56e+05. This might indicate that there are\n",
            "strong multicollinearity or other numerical problems.\n"
          ]
        }
      ]
    },
    {
      "cell_type": "markdown",
      "source": [
        "EL AIC Y BIC SON ERRORES CUANTO MAS BAJO MEJOR, MIENTRAS QUE EL RSQUARED CUANTO MAS ALTO MEJOR"
      ],
      "metadata": {
        "id": "vZMUXQvkVmoX"
      }
    },
    {
      "cell_type": "code",
      "source": [
        "# EL AIC Y BIC SON ERRORES CUANTO MAS BAJO MEJOR, MIENTRAS QUE EL RSQUARED CUANTO MAS ALTO MEJOR\n",
        "# Los resultados han empeorado, es una BD pequeña y no nos podemos fiar del RMSE y MAE\n",
        "\n"
      ],
      "metadata": {
        "id": "7Qc9NgxtVGyQ"
      },
      "execution_count": 141,
      "outputs": []
    },
    {
      "cell_type": "code",
      "source": [
        "# X_test_new = sm.add_constant(X_test[selec], prepend=True)\n",
        "y_hat = modelo.predict(X_test_new)\n",
        "MAE = mean_absolute_error(y_test, y_hat)\n",
        "RMSE = mean_squared_error(y_test, y_hat, squared=False)\n",
        "print(f'MAE={MAE:0.3f}, RMSE={RMSE:0.3f}')"
      ],
      "metadata": {
        "id": "WWFnz0oxV3_e",
        "outputId": "ddef17bb-31a8-4e84-ec6c-53303719d6c1",
        "colab": {
          "base_uri": "https://localhost:8080/"
        }
      },
      "execution_count": 153,
      "outputs": [
        {
          "output_type": "stream",
          "name": "stdout",
          "text": [
            "MAE=39.667, RMSE=44.704\n"
          ]
        }
      ]
    },
    {
      "cell_type": "code",
      "source": [
        "#VAMOS A IR QUITANDO LA QUE + PVALOR TIENE Y CALCULAMOS EL MODELO\n"
      ],
      "metadata": {
        "id": "__v1CeDhWyEu"
      },
      "execution_count": 143,
      "outputs": []
    },
    {
      "cell_type": "markdown",
      "metadata": {
        "id": "bLctN24-rppt"
      },
      "source": [
        "## Modelo eliminando variables con alta correlación"
      ]
    },
    {
      "cell_type": "markdown",
      "metadata": {
        "id": "bOPqXaDrrppu"
      },
      "source": [
        "Utilizando la función *tidy_corr_matrix()* analizar las variables que tienen una correlación mayor de 0.65 (en valor absoluto).\n",
        "- Entre parejas de variables con alta correlación, eliminar una de ellas y obtener un nuevo modelo sin esas variables.\n",
        "- Observar el R2 ajustado, el *Prob (F-statistic)* del modelo y los errores MAE y RMSE con la base de datos de testeo. ¿Han mejorado?\n",
        "- ¿Cuántas variables independientes tienen ahora significancia estadística? \n",
        "\n",
        "**Justifica todas las respuestas**"
      ]
    },
    {
      "cell_type": "markdown",
      "metadata": {
        "id": "iKk0DgBzrppu"
      },
      "source": [
        "## Creación de un modelo con Selección Hacia Atrás (Backwards)"
      ]
    },
    {
      "cell_type": "markdown",
      "metadata": {
        "id": "0qP3lLmzrppu"
      },
      "source": [
        "La función *elimina_mayor_p_valor()* devuelve un array con las variables de entrada eliminando el atributo que mayor *p-value* tiene. \n",
        "- Utilizando esta función, realizar una búsqueda hacia atrás, *backwards*, eliminando variables hasta que el RMSE de testeo deje de bajar.\n",
        "- Para cada paso, guardar el R2 Ajustado, el *Prob (F-statistic)* del modelo y, los errores MAE y RMSE con la base de datos de testeo.\n",
        "- **Crear una tabla** mostrando la evolución de los resultados del proceso *backwards* paso a paso.\n",
        "\n",
        "**Justifica todas las respuestas**"
      ]
    },
    {
      "cell_type": "code",
      "execution_count": 144,
      "metadata": {
        "ExecuteTime": {
          "end_time": "2022-02-23T16:52:45.335925Z",
          "start_time": "2022-02-23T16:52:45.321929Z"
        },
        "id": "bHeCMHberppv",
        "outputId": "02008587-7ce2-4a96-97f9-2d0c087c001c",
        "colab": {
          "base_uri": "https://localhost:8080/"
        }
      },
      "outputs": [
        {
          "output_type": "stream",
          "name": "stdout",
          "text": [
            "Eliminada la variable = SO@ con p-value=0.9479792918682248\n"
          ]
        },
        {
          "output_type": "execute_result",
          "data": {
            "text/plain": [
              "array(['DENS', 'EDUC', 'HC', 'HOUS', 'HUMID', 'JANT', 'JULT', 'NONW',\n",
              "       'NOX', 'OVR65', 'POOR', 'POPN', 'PREC', 'WWDRK', 'const'],\n",
              "      dtype=object)"
            ]
          },
          "metadata": {},
          "execution_count": 144
        }
      ],
      "source": [
        "# Función que devuelve todas las variables independientes excepto la que tiene mayor p_valor\n",
        "def elimina_mayor_p_valor(x,y):\n",
        "    modelo_OLS = sm.OLS(y, x).fit()\n",
        "    pvalores = modelo_OLS.pvalues\n",
        "    donde_mayor = np.argmax(pvalores)\n",
        "    print(f\"Eliminada la variable = {pvalores.index[donde_mayor]} con p-value={pvalores[donde_mayor]}\")\n",
        "    return np.setdiff1d(pvalores.index, pvalores.index[donde_mayor])\n",
        "selec_vars = X_train.columns\n",
        "elimina_mayor_p_valor(X_train[selec_vars], y_train)\n"
      ]
    },
    {
      "cell_type": "code",
      "source": [
        "salida=[]\n",
        "# for h in range(len(select_vars)):\n",
        "#     # selec_vars=\n",
        "#     salida.append(dict(h=h, MAE=MAE,RNSE=RMSE,RADJ=RADJ))\n",
        "#     salida=pd.DataFrame(salida);"
      ],
      "metadata": {
        "id": "z482e9b5Xlfm"
      },
      "execution_count": 145,
      "outputs": []
    },
    {
      "cell_type": "markdown",
      "metadata": {
        "id": "pf8Z3GRPrppv"
      },
      "source": [
        "## Interpretación de resultados"
      ]
    },
    {
      "cell_type": "markdown",
      "metadata": {
        "id": "CHL5CYmmrppw"
      },
      "source": [
        "Con el mejor modelo conseguido:\n",
        "- Analizar los resultados que muestra la función OLS().\n",
        "- Interpretar los atributos finales y su importancia analizando: el *p-value* de los mismos, y sus intervalos de confianza. ¿Qué crees que explica cada una de las características?\n",
        " Comparar los errores MAE y RMSE con la base de datos de testeo y con los mejores modelos de los puntos anteriores.\n",
        "- Dibujar los residuos usando el código de ejemplo y explicar lo que indica cada una de las gráficas.\n",
        "\n",
        "**Justifica todas las respuestas**"
      ]
    },
    {
      "cell_type": "code",
      "execution_count": 146,
      "metadata": {
        "ExecuteTime": {
          "end_time": "2022-02-23T16:52:45.367375Z",
          "start_time": "2022-02-23T16:52:45.339918Z"
        },
        "id": "b4lhHNEBrppw",
        "outputId": "8672c427-aea1-4ca3-8d71-7c2b503d5b53",
        "colab": {
          "base_uri": "https://localhost:8080/"
        }
      },
      "outputs": [
        {
          "output_type": "stream",
          "name": "stdout",
          "text": [
            "                            OLS Regression Results                            \n",
            "==============================================================================\n",
            "Dep. Variable:                   MORT   R-squared:                       0.793\n",
            "Model:                            OLS   Adj. R-squared:                  0.721\n",
            "Method:                 Least Squares   F-statistic:                     11.14\n",
            "Date:                Tue, 29 Mar 2022   Prob (F-statistic):           1.12e-08\n",
            "Time:                        16:07:11   Log-Likelihood:                -230.59\n",
            "No. Observations:                  48   AIC:                             487.2\n",
            "Df Residuals:                      35   BIC:                             511.5\n",
            "Df Model:                          12                                         \n",
            "Covariance Type:            nonrobust                                         \n",
            "==============================================================================\n",
            "                 coef    std err          t      P>|t|      [0.025      0.975]\n",
            "------------------------------------------------------------------------------\n",
            "const       2030.0995    556.221      3.650      0.001     900.911    3159.288\n",
            "DENS       -1.578e-05      0.005     -0.003      0.997      -0.010       0.010\n",
            "EDUC         -27.6167     12.751     -2.166      0.037     -53.503      -1.730\n",
            "HC             0.2319      0.283      0.818      0.419      -0.343       0.807\n",
            "HOUS           1.0294      1.800      0.572      0.571      -2.625       4.684\n",
            "HUMID         -0.3700      1.205     -0.307      0.761      -2.816       2.076\n",
            "JANT          -2.7263      1.052     -2.591      0.014      -4.863      -0.590\n",
            "JULT          -2.4172      1.975     -1.224      0.229      -6.427       1.593\n",
            "NONW           5.6638      1.331      4.256      0.000       2.962       8.365\n",
            "OVR65        -11.4654      8.957     -1.280      0.209     -29.649       6.718\n",
            "POPN        -196.9775     85.540     -2.303      0.027    -370.633     -23.322\n",
            "PREC           2.4085      1.018      2.366      0.024       0.342       4.475\n",
            "SO@            0.0842      0.150      0.560      0.579      -0.221       0.389\n",
            "==============================================================================\n",
            "Omnibus:                        6.090   Durbin-Watson:                   2.181\n",
            "Prob(Omnibus):                  0.048   Jarque-Bera (JB):                5.086\n",
            "Skew:                           0.606   Prob(JB):                       0.0786\n",
            "Kurtosis:                       4.037   Cond. No.                     4.56e+05\n",
            "==============================================================================\n",
            "\n",
            "Warnings:\n",
            "[1] Standard Errors assume that the covariance matrix of the errors is correctly specified.\n",
            "[2] The condition number is large, 4.56e+05. This might indicate that there are\n",
            "strong multicollinearity or other numerical problems.\n"
          ]
        }
      ],
      "source": [
        "print(modelo.summary())"
      ]
    },
    {
      "cell_type": "code",
      "source": [
        "selec"
      ],
      "metadata": {
        "id": "Kp1ZkaZub2n0",
        "outputId": "d179c00d-fbec-455a-f98f-1de731ab851d",
        "colab": {
          "base_uri": "https://localhost:8080/"
        }
      },
      "execution_count": 151,
      "outputs": [
        {
          "output_type": "execute_result",
          "data": {
            "text/plain": [
              "array(['DENS', 'EDUC', 'HC', 'HOUS', 'HUMID', 'JANT', 'JULT', 'NONW',\n",
              "       'OVR65', 'POPN', 'PREC', 'SO@'], dtype=object)"
            ]
          },
          "metadata": {},
          "execution_count": 151
        }
      ]
    },
    {
      "cell_type": "code",
      "execution_count": 154,
      "metadata": {
        "ExecuteTime": {
          "end_time": "2022-02-23T16:52:46.755170Z",
          "start_time": "2022-02-23T16:52:45.369374Z"
        },
        "id": "ZsgGevpgrppw",
        "outputId": "529eb39c-e38a-431f-e0bf-47ae41e24db1",
        "colab": {
          "base_uri": "https://localhost:8080/",
          "height": 415
        }
      },
      "outputs": [
        {
          "output_type": "error",
          "ename": "ValueError",
          "evalue": "ignored",
          "traceback": [
            "\u001b[0;31m---------------------------------------------------------------------------\u001b[0m",
            "\u001b[0;31mValueError\u001b[0m                                Traceback (most recent call last)",
            "\u001b[0;32m<ipython-input-154-b04686555bfa>\u001b[0m in \u001b[0;36m<module>\u001b[0;34m()\u001b[0m\n\u001b[0;32m----> 1\u001b[0;31m \u001b[0mprediccion_train\u001b[0m \u001b[0;34m=\u001b[0m \u001b[0mmodelo\u001b[0m\u001b[0;34m.\u001b[0m\u001b[0mpredict\u001b[0m\u001b[0;34m(\u001b[0m\u001b[0mX_train\u001b[0m\u001b[0;34m[\u001b[0m\u001b[0mselec\u001b[0m\u001b[0;34m]\u001b[0m\u001b[0;34m)\u001b[0m\u001b[0;34m.\u001b[0m\u001b[0mvalues\u001b[0m\u001b[0;34m\u001b[0m\u001b[0;34m\u001b[0m\u001b[0m\n\u001b[0m\u001b[1;32m      2\u001b[0m \u001b[0mresiduos_train\u001b[0m   \u001b[0;34m=\u001b[0m \u001b[0mprediccion_train\u001b[0m \u001b[0;34m-\u001b[0m \u001b[0my_train\u001b[0m\u001b[0;34m.\u001b[0m\u001b[0mvalues\u001b[0m\u001b[0;34m\u001b[0m\u001b[0;34m\u001b[0m\u001b[0m\n\u001b[1;32m      3\u001b[0m \u001b[0;34m\u001b[0m\u001b[0m\n\u001b[1;32m      4\u001b[0m \u001b[0;31m# Gráficos\u001b[0m\u001b[0;34m\u001b[0m\u001b[0;34m\u001b[0m\u001b[0;34m\u001b[0m\u001b[0m\n\u001b[1;32m      5\u001b[0m \u001b[0;31m# ==============================================================================\u001b[0m\u001b[0;34m\u001b[0m\u001b[0;34m\u001b[0m\u001b[0;34m\u001b[0m\u001b[0m\n",
            "\u001b[0;32m/usr/local/lib/python3.7/dist-packages/statsmodels/base/model.py\u001b[0m in \u001b[0;36mpredict\u001b[0;34m(self, exog, transform, *args, **kwargs)\u001b[0m\n\u001b[1;32m   1036\u001b[0m \u001b[0;34m\u001b[0m\u001b[0m\n\u001b[1;32m   1037\u001b[0m         predict_results = self.model.predict(self.params, exog, *args,\n\u001b[0;32m-> 1038\u001b[0;31m                                              **kwargs)\n\u001b[0m\u001b[1;32m   1039\u001b[0m \u001b[0;34m\u001b[0m\u001b[0m\n\u001b[1;32m   1040\u001b[0m         if exog_index is not None and not hasattr(predict_results,\n",
            "\u001b[0;32m/usr/local/lib/python3.7/dist-packages/statsmodels/regression/linear_model.py\u001b[0m in \u001b[0;36mpredict\u001b[0;34m(self, params, exog)\u001b[0m\n\u001b[1;32m    362\u001b[0m             \u001b[0mexog\u001b[0m \u001b[0;34m=\u001b[0m \u001b[0mself\u001b[0m\u001b[0;34m.\u001b[0m\u001b[0mexog\u001b[0m\u001b[0;34m\u001b[0m\u001b[0;34m\u001b[0m\u001b[0m\n\u001b[1;32m    363\u001b[0m \u001b[0;34m\u001b[0m\u001b[0m\n\u001b[0;32m--> 364\u001b[0;31m         \u001b[0;32mreturn\u001b[0m \u001b[0mnp\u001b[0m\u001b[0;34m.\u001b[0m\u001b[0mdot\u001b[0m\u001b[0;34m(\u001b[0m\u001b[0mexog\u001b[0m\u001b[0;34m,\u001b[0m \u001b[0mparams\u001b[0m\u001b[0;34m)\u001b[0m\u001b[0;34m\u001b[0m\u001b[0;34m\u001b[0m\u001b[0m\n\u001b[0m\u001b[1;32m    365\u001b[0m \u001b[0;34m\u001b[0m\u001b[0m\n\u001b[1;32m    366\u001b[0m     \u001b[0;32mdef\u001b[0m \u001b[0mget_distribution\u001b[0m\u001b[0;34m(\u001b[0m\u001b[0mself\u001b[0m\u001b[0;34m,\u001b[0m \u001b[0mparams\u001b[0m\u001b[0;34m,\u001b[0m \u001b[0mscale\u001b[0m\u001b[0;34m,\u001b[0m \u001b[0mexog\u001b[0m\u001b[0;34m=\u001b[0m\u001b[0;32mNone\u001b[0m\u001b[0;34m,\u001b[0m \u001b[0mdist_class\u001b[0m\u001b[0;34m=\u001b[0m\u001b[0;32mNone\u001b[0m\u001b[0;34m)\u001b[0m\u001b[0;34m:\u001b[0m\u001b[0;34m\u001b[0m\u001b[0;34m\u001b[0m\u001b[0m\n",
            "\u001b[0;32m<__array_function__ internals>\u001b[0m in \u001b[0;36mdot\u001b[0;34m(*args, **kwargs)\u001b[0m\n",
            "\u001b[0;31mValueError\u001b[0m: shapes (48,12) and (13,) not aligned: 12 (dim 1) != 13 (dim 0)"
          ]
        }
      ],
      "source": [
        "\n",
        "X_train_new =sm.add_constant(X_train[selec],prepend=True)\n",
        "X_test_new = sm.add_constant(X_test[selec], prepend=True)\n",
        "modelo  = sm.OLS(endog=y_train, exog=X_train,)\n",
        "modelo  = modelo.fit()\n",
        "prediccion_train = modelo.predict(X_train[selec]).values\n",
        "residuos_train   = prediccion_train - y_train.values\n",
        "\n",
        "# Gráficos\n",
        "# ==============================================================================\n",
        "fig, axes = plt.subplots(nrows=3, ncols=2, figsize=(9, 8))\n",
        "\n",
        "axes[0, 0].scatter(y_train, prediccion_train, edgecolors=(0, 0, 0), alpha = 0.4)\n",
        "axes[0, 0].plot([y_train.min(), y_train.max()], [y_train.min(), y_train.max()],\n",
        "                'k--', color = 'black', lw=2)\n",
        "axes[0, 0].set_title('Valor predicho vs valor real', fontsize = 10, fontweight = \"bold\")\n",
        "axes[0, 0].set_xlabel('Real')\n",
        "axes[0, 0].set_ylabel('Predicción')\n",
        "axes[0, 0].tick_params(labelsize = 7)\n",
        "\n",
        "axes[0, 1].scatter(list(range(len(y_train))), residuos_train,\n",
        "                   edgecolors=(0, 0, 0), alpha = 0.4)\n",
        "axes[0, 1].axhline(y = 0, linestyle = '--', color = 'black', lw=2)\n",
        "axes[0, 1].set_title('Residuos del modelo', fontsize = 10, fontweight = \"bold\")\n",
        "axes[0, 1].set_xlabel('id')\n",
        "axes[0, 1].set_ylabel('Residuo')\n",
        "axes[0, 1].tick_params(labelsize = 7)\n",
        "\n",
        "sns.histplot(\n",
        "    data    = residuos_train,\n",
        "    stat    = \"density\",\n",
        "    kde     = True,\n",
        "    line_kws= {'linewidth': 1},\n",
        "    color   = \"firebrick\",\n",
        "    alpha   = 0.3,\n",
        "    ax      = axes[1, 0]\n",
        ")\n",
        "\n",
        "axes[1, 0].set_title('Distribución residuos del modelo', fontsize = 10,\n",
        "                     fontweight = \"bold\")\n",
        "axes[1, 0].set_xlabel(\"Residuo\")\n",
        "axes[1, 0].tick_params(labelsize = 7)\n",
        "\n",
        "\n",
        "sm.qqplot(\n",
        "    residuos_train,\n",
        "    fit   = True,\n",
        "    line  = 'q',\n",
        "    ax    = axes[1, 1], \n",
        "    color = 'firebrick',\n",
        "    alpha = 0.4,\n",
        "    lw    = 2\n",
        ")\n",
        "axes[1, 1].set_title('Q-Q residuos del modelo', fontsize = 10, fontweight = \"bold\")\n",
        "axes[1, 1].tick_params(labelsize = 7)\n",
        "\n",
        "axes[2, 0].scatter(prediccion_train, residuos_train,\n",
        "                   edgecolors=(0, 0, 0), alpha = 0.4)\n",
        "axes[2, 0].axhline(y = 0, linestyle = '--', color = 'black', lw=2)\n",
        "axes[2, 0].set_title('Residuos del modelo vs predicción', fontsize = 10, fontweight = \"bold\")\n",
        "axes[2, 0].set_xlabel('Predicción')\n",
        "axes[2, 0].set_ylabel('Residuo')\n",
        "axes[2, 0].tick_params(labelsize = 7)\n",
        "\n",
        "# Se eliminan los axes vacíos\n",
        "# fig.delaxes(axes[2,1])\n",
        "\n",
        "fig.tight_layout()\n",
        "plt.subplots_adjust(top=0.9)\n",
        "fig.suptitle('Diagnóstico residuos', fontsize = 12, fontweight = \"bold\");"
      ]
    },
    {
      "cell_type": "markdown",
      "metadata": {
        "id": "JZweWLg_rppx"
      },
      "source": [
        "# Para profundizar"
      ]
    },
    {
      "cell_type": "markdown",
      "metadata": {
        "id": "a8OeQPyGrppy"
      },
      "source": [
        "- Lección 5. Regresión Lineal, No Lineal y Logística.\n",
        "- Regresión lineal con Python. Joaquin Amat Rodrigo. Octubre, 2020. https://www.cienciadedatos.net/documentos/py10-regresion-lineal-python.html\n",
        "- Step by Step Regression & Backwards Elimination. https://www.kaggle.com/ashishsaxena2209/step-by-step-regression-backward-elimination"
      ]
    },
    {
      "cell_type": "markdown",
      "metadata": {
        "id": "Gv2TvktKrppy"
      },
      "source": [
        "# Recuerda "
      ]
    },
    {
      "cell_type": "markdown",
      "metadata": {
        "ExecuteTime": {
          "end_time": "2022-02-14T10:03:55.307827Z",
          "start_time": "2022-02-14T10:03:55.289663Z"
        },
        "id": "ed_xBZdOrppy"
      },
      "source": [
        "Si usas Colab, recuerda guardar tus cambios en tu repositorio utilizando la opción \"Save a copy in GitHub...\" del menú File."
      ]
    }
  ],
  "metadata": {
    "kernelspec": {
      "display_name": "Python 3 (ipykernel)",
      "language": "python",
      "name": "python3"
    },
    "language_info": {
      "codemirror_mode": {
        "name": "ipython",
        "version": 3
      },
      "file_extension": ".py",
      "mimetype": "text/x-python",
      "name": "python",
      "nbconvert_exporter": "python",
      "pygments_lexer": "ipython3",
      "version": "3.9.7"
    },
    "toc": {
      "base_numbering": 1,
      "nav_menu": {},
      "number_sections": true,
      "sideBar": true,
      "skip_h1_title": false,
      "title_cell": "Table of Contents",
      "title_sidebar": "Contents",
      "toc_cell": false,
      "toc_position": {
        "height": "calc(100% - 180px)",
        "left": "10px",
        "top": "150px",
        "width": "312.656px"
      },
      "toc_section_display": true,
      "toc_window_display": false
    },
    "varInspector": {
      "cols": {
        "lenName": 16,
        "lenType": 16,
        "lenVar": 40
      },
      "kernels_config": {
        "python": {
          "delete_cmd_postfix": "",
          "delete_cmd_prefix": "del ",
          "library": "var_list.py",
          "varRefreshCmd": "print(var_dic_list())"
        },
        "r": {
          "delete_cmd_postfix": ") ",
          "delete_cmd_prefix": "rm(",
          "library": "var_list.r",
          "varRefreshCmd": "cat(var_dic_list()) "
        }
      },
      "types_to_exclude": [
        "module",
        "function",
        "builtin_function_or_method",
        "instance",
        "_Feature"
      ],
      "window_display": false
    },
    "colab": {
      "name": "Parte2_Modelo_de_Regresión_Lineal.ipynb",
      "provenance": [],
      "include_colab_link": true
    }
  },
  "nbformat": 4,
  "nbformat_minor": 0
}